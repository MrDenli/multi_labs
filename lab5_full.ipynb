{
  "cells": [
    {
      "cell_type": "markdown",
      "metadata": {
        "id": "mWFRgchRzIdP"
      },
      "source": [
        "# Лабораторная работа №5: Проведение исследований с градиентным бустингом\n"
      ]
    },
    {
      "cell_type": "markdown",
      "metadata": {
        "id": "UWMvDsazzIdQ"
      },
      "source": [
        "## Шаг 1: Выбор начальных условий\n",
        "\n",
        "### 1a. Датасет для классификации\n",
        "- **Набор данных:** Iris\n",
        "- **Обоснование:** Небольшой, сбалансированный датасет для классификации.\n",
        "\n",
        "### 1b. Датасет для регрессии\n",
        "- **Набор данных:** California Housing\n",
        "- **Обоснование:** Реальные данные о ценах на жильё, подходят для регрессии.\n",
        "\n",
        "### 1c. Метрики качества\n",
        "- **Классификация:** Accuracy\n",
        "- **Обоснование:** Accuracy выбрана как простая и эффективная метрика для оценки качества моделей на сбалансированном датасете Iris.\n",
        "- **Регрессия:** Mean Squared Error (MSE), R²\n",
        "- **Обоснование:** MSE и R² выбраны для оценки моделей регрессии, так как они дают количественную и качественную оценку предсказаний модели на датасете California Housing.\n",
        "-Эти метрики в совокупности обеспечивают всестороннюю оценку моделей KNN как для классификации, так и для регрессии."
      ]
    },
    {
      "cell_type": "code",
      "execution_count": 2,
      "metadata": {
        "id": "An_JLCLRzIdR"
      },
      "outputs": [],
      "source": [
        "# Импортирование необходимых библиотек\n",
        "import pandas as pd\n",
        "import numpy as np\n",
        "from sklearn.model_selection import train_test_split, GridSearchCV\n",
        "from sklearn.ensemble import GradientBoostingClassifier, GradientBoostingRegressor\n",
        "from sklearn.metrics import accuracy_score, f1_score, mean_squared_error, r2_score\n",
        "from sklearn.preprocessing import StandardScaler\n",
        "import seaborn as sns\n",
        "import matplotlib.pyplot as plt\n",
        "\n",
        "from sklearn.datasets import load_iris\n",
        "from sklearn.model_selection import train_test_split\n",
        "\n",
        "# Загрузка данных для классификации (например, данные о заболевании сердца)\n",
        "from sklearn.datasets import load_breast_cancer  # Можно использовать для классификации рака груди\n",
        "data_class = load_breast_cancer()\n",
        "X_class = data_class.data\n",
        "y_class = data_class.target\n",
        "\n",
        "X_train_class, X_test_class, y_train_class, y_test_class = train_test_split(X_class, y_class, test_size=0.3, random_state=42)\n",
        "\n",
        "from sklearn.datasets import fetch_california_housing\n",
        "\n",
        "# Загрузка данных для регрессии (California Housing)\n",
        "housing_data = fetch_california_housing()\n",
        "X_reg = housing_data.data\n",
        "y_reg = housing_data.target\n",
        "\n",
        "X_train_reg, X_test_reg, y_train_reg, y_test_reg = train_test_split(X_reg, y_reg, test_size=0.3, random_state=42)\n",
        "\n",
        "from sklearn.metrics import accuracy_score, f1_score, mean_squared_error, r2_score\n"
      ]
    },
    {
      "cell_type": "markdown",
      "metadata": {
        "id": "KFDT7JQAzIdS"
      },
      "source": [
        "###  Шаг 2: Создание бейзлайна и оценка качества"
      ]
    },
    {
      "cell_type": "code",
      "execution_count": 3,
      "metadata": {
        "id": "EqsQqc-rzIdS"
      },
      "outputs": [],
      "source": [
        "from sklearn.ensemble import GradientBoostingClassifier, GradientBoostingRegressor\n",
        "\n",
        "# Классификация с использованием Gradient Boosting\n",
        "gb_class = GradientBoostingClassifier(random_state=42)\n",
        "gb_class.fit(X_train_class, y_train_class)\n",
        "y_pred_class = gb_class.predict(X_test_class)\n",
        "\n",
        "# Регрессия с использованием Gradient Boosting\n",
        "gb_reg = GradientBoostingRegressor(random_state=42)\n",
        "gb_reg.fit(X_train_reg, y_train_reg)\n",
        "y_pred_reg = gb_reg.predict(X_test_reg)\n"
      ]
    },
    {
      "cell_type": "code",
      "source": [
        "# Оценка для классификации\n",
        "accuracy_class = accuracy_score(y_test_class, y_pred_class)\n",
        "f1_class = f1_score(y_test_class, y_pred_class, average='weighted')\n",
        "\n",
        "# Оценка для регрессии\n",
        "mse_reg = mean_squared_error(y_test_reg, y_pred_reg)\n",
        "r2_reg = r2_score(y_test_reg, y_pred_reg)\n",
        "\n",
        "print(f\"Classification Accuracy: {accuracy_class:.4f}\")\n",
        "print(f\"Classification F1 Score: {f1_class:.4f}\")\n",
        "print(f\"Regression MSE: {mse_reg:.4f}\")\n",
        "print(f\"Regression R²: {r2_reg:.4f}\")\n"
      ],
      "metadata": {
        "colab": {
          "base_uri": "https://localhost:8080/"
        },
        "id": "rFatEXhewOIJ",
        "outputId": "ac5f56cc-0acc-41d7-d088-0fb826347e31"
      },
      "execution_count": 4,
      "outputs": [
        {
          "output_type": "stream",
          "name": "stdout",
          "text": [
            "Classification Accuracy: 0.9591\n",
            "Classification F1 Score: 0.9590\n",
            "Regression MSE: 0.2884\n",
            "Regression R²: 0.7803\n"
          ]
        }
      ]
    },
    {
      "cell_type": "markdown",
      "source": [
        "##  Итоговая оценка качества моделей KNN\n",
        "\n",
        "| **Задача**       | **Метрика** | **Результат** | **Интерпретация**                        |\n",
        "|------------------|------------|--------------|-----------------------------------------|\n",
        "| **Классификация** | Accuracy   | 0.9591         | Модель почти идеально классифицировала данные. Возможно переобучение. |\n",
        "| **Регрессия**    | MSE        | 0.2884         | Средняя ошибка предсказаний умеренная.    |\n",
        "| **Регрессия**    | R²         | 0.7803         | Модель объясняет 85% изменчивости данных. |\n"
      ],
      "metadata": {
        "id": "W4g2YS2HAfG8"
      }
    },
    {
      "cell_type": "markdown",
      "metadata": {
        "id": "l_WZnHd-Prs0"
      },
      "source": [
        "##  3. Улучшение бейзлайна"
      ]
    },
    {
      "cell_type": "markdown",
      "metadata": {
        "id": "ozTs09KrPrs0"
      },
      "source": [
        "###  3a. Сформулировать гипотезы\n",
        "# Гипотезы:\n",
        "- Применить масштабирование данных, чтобы улучшить обучение моделей.\n",
        "- Провести подбор гиперпараметров с помощью GridSearchCV для улучшения производительности модели.\n",
        "- Добавление новых признаков или применение методов отбора признаков."
      ]
    },
    {
      "cell_type": "markdown",
      "metadata": {
        "id": "dgzkKwPWPrs0"
      },
      "source": [
        "###3b. Проверить гипотезы\n",
        "Реализуем препроцессинг, визуализацию и оптимизацию гиперпараметров."
      ]
    },
    {
      "cell_type": "code",
      "metadata": {
        "id": "uy6lqMEIPrs0"
      },
      "source": [
        "from sklearn.preprocessing import StandardScaler\n",
        "from sklearn.model_selection import GridSearchCV\n",
        "\n",
        "# Стандартизация данных\n",
        "scaler = StandardScaler()\n",
        "X_train_class_scaled = scaler.fit_transform(X_train_class)\n",
        "X_test_class_scaled = scaler.transform(X_test_class)\n",
        "\n",
        "X_train_reg_scaled = scaler.fit_transform(X_train_reg)\n",
        "X_test_reg_scaled = scaler.transform(X_test_reg)\n",
        "\n",
        "# Пример подбора гиперпараметров для классификации\n",
        "param_grid_class = {\n",
        "    'n_estimators': [100, 200],\n",
        "    'learning_rate': [0.05, 0.1],\n",
        "    'max_depth': [3, 5]\n",
        "}\n",
        "\n",
        "grid_search_class = GridSearchCV(GradientBoostingClassifier(random_state=42), param_grid_class, cv=5)\n",
        "grid_search_class.fit(X_train_class_scaled, y_train_class)\n",
        "best_params_class = grid_search_class.best_params_\n",
        "\n",
        "# Пример подбора гиперпараметров для регрессии\n",
        "param_grid_reg = {\n",
        "    'n_estimators': [100, 200],\n",
        "    'learning_rate': [0.05, 0.1],\n",
        "    'max_depth': [3, 5]\n",
        "}\n",
        "\n",
        "grid_search_reg = GridSearchCV(GradientBoostingRegressor(random_state=42), param_grid_reg, cv=5)\n",
        "grid_search_reg.fit(X_train_reg_scaled, y_train_reg)\n",
        "best_params_reg = grid_search_reg.best_params_\n",
        "\n"
      ],
      "execution_count": 5,
      "outputs": []
    },
    {
      "cell_type": "markdown",
      "metadata": {
        "id": "GZV_vEs8Prs1"
      },
      "source": [
        "###3c. Сформировать улучшенный бейзлайн"
      ]
    },
    {
      "cell_type": "code",
      "metadata": {
        "id": "EzoirNx-Prs1",
        "colab": {
          "base_uri": "https://localhost:8080/",
          "height": 80
        },
        "outputId": "63d1d425-7e58-41c7-97fc-b1e86f5a13c0"
      },
      "source": [
        "# Используем лучшие гиперпараметры для классификации и регрессии\n",
        "gb_class_best = GradientBoostingClassifier(**best_params_class, random_state=42)\n",
        "gb_class_best.fit(X_train_class_scaled, y_train_class)\n",
        "\n",
        "gb_reg_best = GradientBoostingRegressor(**best_params_reg, random_state=42)\n",
        "gb_reg_best.fit(X_train_reg_scaled, y_train_reg)\n"
      ],
      "execution_count": 6,
      "outputs": [
        {
          "output_type": "execute_result",
          "data": {
            "text/plain": [
              "GradientBoostingRegressor(max_depth=5, n_estimators=200, random_state=42)"
            ],
            "text/html": [
              "<style>#sk-container-id-1 {\n",
              "  /* Definition of color scheme common for light and dark mode */\n",
              "  --sklearn-color-text: #000;\n",
              "  --sklearn-color-text-muted: #666;\n",
              "  --sklearn-color-line: gray;\n",
              "  /* Definition of color scheme for unfitted estimators */\n",
              "  --sklearn-color-unfitted-level-0: #fff5e6;\n",
              "  --sklearn-color-unfitted-level-1: #f6e4d2;\n",
              "  --sklearn-color-unfitted-level-2: #ffe0b3;\n",
              "  --sklearn-color-unfitted-level-3: chocolate;\n",
              "  /* Definition of color scheme for fitted estimators */\n",
              "  --sklearn-color-fitted-level-0: #f0f8ff;\n",
              "  --sklearn-color-fitted-level-1: #d4ebff;\n",
              "  --sklearn-color-fitted-level-2: #b3dbfd;\n",
              "  --sklearn-color-fitted-level-3: cornflowerblue;\n",
              "\n",
              "  /* Specific color for light theme */\n",
              "  --sklearn-color-text-on-default-background: var(--sg-text-color, var(--theme-code-foreground, var(--jp-content-font-color1, black)));\n",
              "  --sklearn-color-background: var(--sg-background-color, var(--theme-background, var(--jp-layout-color0, white)));\n",
              "  --sklearn-color-border-box: var(--sg-text-color, var(--theme-code-foreground, var(--jp-content-font-color1, black)));\n",
              "  --sklearn-color-icon: #696969;\n",
              "\n",
              "  @media (prefers-color-scheme: dark) {\n",
              "    /* Redefinition of color scheme for dark theme */\n",
              "    --sklearn-color-text-on-default-background: var(--sg-text-color, var(--theme-code-foreground, var(--jp-content-font-color1, white)));\n",
              "    --sklearn-color-background: var(--sg-background-color, var(--theme-background, var(--jp-layout-color0, #111)));\n",
              "    --sklearn-color-border-box: var(--sg-text-color, var(--theme-code-foreground, var(--jp-content-font-color1, white)));\n",
              "    --sklearn-color-icon: #878787;\n",
              "  }\n",
              "}\n",
              "\n",
              "#sk-container-id-1 {\n",
              "  color: var(--sklearn-color-text);\n",
              "}\n",
              "\n",
              "#sk-container-id-1 pre {\n",
              "  padding: 0;\n",
              "}\n",
              "\n",
              "#sk-container-id-1 input.sk-hidden--visually {\n",
              "  border: 0;\n",
              "  clip: rect(1px 1px 1px 1px);\n",
              "  clip: rect(1px, 1px, 1px, 1px);\n",
              "  height: 1px;\n",
              "  margin: -1px;\n",
              "  overflow: hidden;\n",
              "  padding: 0;\n",
              "  position: absolute;\n",
              "  width: 1px;\n",
              "}\n",
              "\n",
              "#sk-container-id-1 div.sk-dashed-wrapped {\n",
              "  border: 1px dashed var(--sklearn-color-line);\n",
              "  margin: 0 0.4em 0.5em 0.4em;\n",
              "  box-sizing: border-box;\n",
              "  padding-bottom: 0.4em;\n",
              "  background-color: var(--sklearn-color-background);\n",
              "}\n",
              "\n",
              "#sk-container-id-1 div.sk-container {\n",
              "  /* jupyter's `normalize.less` sets `[hidden] { display: none; }`\n",
              "     but bootstrap.min.css set `[hidden] { display: none !important; }`\n",
              "     so we also need the `!important` here to be able to override the\n",
              "     default hidden behavior on the sphinx rendered scikit-learn.org.\n",
              "     See: https://github.com/scikit-learn/scikit-learn/issues/21755 */\n",
              "  display: inline-block !important;\n",
              "  position: relative;\n",
              "}\n",
              "\n",
              "#sk-container-id-1 div.sk-text-repr-fallback {\n",
              "  display: none;\n",
              "}\n",
              "\n",
              "div.sk-parallel-item,\n",
              "div.sk-serial,\n",
              "div.sk-item {\n",
              "  /* draw centered vertical line to link estimators */\n",
              "  background-image: linear-gradient(var(--sklearn-color-text-on-default-background), var(--sklearn-color-text-on-default-background));\n",
              "  background-size: 2px 100%;\n",
              "  background-repeat: no-repeat;\n",
              "  background-position: center center;\n",
              "}\n",
              "\n",
              "/* Parallel-specific style estimator block */\n",
              "\n",
              "#sk-container-id-1 div.sk-parallel-item::after {\n",
              "  content: \"\";\n",
              "  width: 100%;\n",
              "  border-bottom: 2px solid var(--sklearn-color-text-on-default-background);\n",
              "  flex-grow: 1;\n",
              "}\n",
              "\n",
              "#sk-container-id-1 div.sk-parallel {\n",
              "  display: flex;\n",
              "  align-items: stretch;\n",
              "  justify-content: center;\n",
              "  background-color: var(--sklearn-color-background);\n",
              "  position: relative;\n",
              "}\n",
              "\n",
              "#sk-container-id-1 div.sk-parallel-item {\n",
              "  display: flex;\n",
              "  flex-direction: column;\n",
              "}\n",
              "\n",
              "#sk-container-id-1 div.sk-parallel-item:first-child::after {\n",
              "  align-self: flex-end;\n",
              "  width: 50%;\n",
              "}\n",
              "\n",
              "#sk-container-id-1 div.sk-parallel-item:last-child::after {\n",
              "  align-self: flex-start;\n",
              "  width: 50%;\n",
              "}\n",
              "\n",
              "#sk-container-id-1 div.sk-parallel-item:only-child::after {\n",
              "  width: 0;\n",
              "}\n",
              "\n",
              "/* Serial-specific style estimator block */\n",
              "\n",
              "#sk-container-id-1 div.sk-serial {\n",
              "  display: flex;\n",
              "  flex-direction: column;\n",
              "  align-items: center;\n",
              "  background-color: var(--sklearn-color-background);\n",
              "  padding-right: 1em;\n",
              "  padding-left: 1em;\n",
              "}\n",
              "\n",
              "\n",
              "/* Toggleable style: style used for estimator/Pipeline/ColumnTransformer box that is\n",
              "clickable and can be expanded/collapsed.\n",
              "- Pipeline and ColumnTransformer use this feature and define the default style\n",
              "- Estimators will overwrite some part of the style using the `sk-estimator` class\n",
              "*/\n",
              "\n",
              "/* Pipeline and ColumnTransformer style (default) */\n",
              "\n",
              "#sk-container-id-1 div.sk-toggleable {\n",
              "  /* Default theme specific background. It is overwritten whether we have a\n",
              "  specific estimator or a Pipeline/ColumnTransformer */\n",
              "  background-color: var(--sklearn-color-background);\n",
              "}\n",
              "\n",
              "/* Toggleable label */\n",
              "#sk-container-id-1 label.sk-toggleable__label {\n",
              "  cursor: pointer;\n",
              "  display: flex;\n",
              "  width: 100%;\n",
              "  margin-bottom: 0;\n",
              "  padding: 0.5em;\n",
              "  box-sizing: border-box;\n",
              "  text-align: center;\n",
              "  align-items: start;\n",
              "  justify-content: space-between;\n",
              "  gap: 0.5em;\n",
              "}\n",
              "\n",
              "#sk-container-id-1 label.sk-toggleable__label .caption {\n",
              "  font-size: 0.6rem;\n",
              "  font-weight: lighter;\n",
              "  color: var(--sklearn-color-text-muted);\n",
              "}\n",
              "\n",
              "#sk-container-id-1 label.sk-toggleable__label-arrow:before {\n",
              "  /* Arrow on the left of the label */\n",
              "  content: \"▸\";\n",
              "  float: left;\n",
              "  margin-right: 0.25em;\n",
              "  color: var(--sklearn-color-icon);\n",
              "}\n",
              "\n",
              "#sk-container-id-1 label.sk-toggleable__label-arrow:hover:before {\n",
              "  color: var(--sklearn-color-text);\n",
              "}\n",
              "\n",
              "/* Toggleable content - dropdown */\n",
              "\n",
              "#sk-container-id-1 div.sk-toggleable__content {\n",
              "  max-height: 0;\n",
              "  max-width: 0;\n",
              "  overflow: hidden;\n",
              "  text-align: left;\n",
              "  /* unfitted */\n",
              "  background-color: var(--sklearn-color-unfitted-level-0);\n",
              "}\n",
              "\n",
              "#sk-container-id-1 div.sk-toggleable__content.fitted {\n",
              "  /* fitted */\n",
              "  background-color: var(--sklearn-color-fitted-level-0);\n",
              "}\n",
              "\n",
              "#sk-container-id-1 div.sk-toggleable__content pre {\n",
              "  margin: 0.2em;\n",
              "  border-radius: 0.25em;\n",
              "  color: var(--sklearn-color-text);\n",
              "  /* unfitted */\n",
              "  background-color: var(--sklearn-color-unfitted-level-0);\n",
              "}\n",
              "\n",
              "#sk-container-id-1 div.sk-toggleable__content.fitted pre {\n",
              "  /* unfitted */\n",
              "  background-color: var(--sklearn-color-fitted-level-0);\n",
              "}\n",
              "\n",
              "#sk-container-id-1 input.sk-toggleable__control:checked~div.sk-toggleable__content {\n",
              "  /* Expand drop-down */\n",
              "  max-height: 200px;\n",
              "  max-width: 100%;\n",
              "  overflow: auto;\n",
              "}\n",
              "\n",
              "#sk-container-id-1 input.sk-toggleable__control:checked~label.sk-toggleable__label-arrow:before {\n",
              "  content: \"▾\";\n",
              "}\n",
              "\n",
              "/* Pipeline/ColumnTransformer-specific style */\n",
              "\n",
              "#sk-container-id-1 div.sk-label input.sk-toggleable__control:checked~label.sk-toggleable__label {\n",
              "  color: var(--sklearn-color-text);\n",
              "  background-color: var(--sklearn-color-unfitted-level-2);\n",
              "}\n",
              "\n",
              "#sk-container-id-1 div.sk-label.fitted input.sk-toggleable__control:checked~label.sk-toggleable__label {\n",
              "  background-color: var(--sklearn-color-fitted-level-2);\n",
              "}\n",
              "\n",
              "/* Estimator-specific style */\n",
              "\n",
              "/* Colorize estimator box */\n",
              "#sk-container-id-1 div.sk-estimator input.sk-toggleable__control:checked~label.sk-toggleable__label {\n",
              "  /* unfitted */\n",
              "  background-color: var(--sklearn-color-unfitted-level-2);\n",
              "}\n",
              "\n",
              "#sk-container-id-1 div.sk-estimator.fitted input.sk-toggleable__control:checked~label.sk-toggleable__label {\n",
              "  /* fitted */\n",
              "  background-color: var(--sklearn-color-fitted-level-2);\n",
              "}\n",
              "\n",
              "#sk-container-id-1 div.sk-label label.sk-toggleable__label,\n",
              "#sk-container-id-1 div.sk-label label {\n",
              "  /* The background is the default theme color */\n",
              "  color: var(--sklearn-color-text-on-default-background);\n",
              "}\n",
              "\n",
              "/* On hover, darken the color of the background */\n",
              "#sk-container-id-1 div.sk-label:hover label.sk-toggleable__label {\n",
              "  color: var(--sklearn-color-text);\n",
              "  background-color: var(--sklearn-color-unfitted-level-2);\n",
              "}\n",
              "\n",
              "/* Label box, darken color on hover, fitted */\n",
              "#sk-container-id-1 div.sk-label.fitted:hover label.sk-toggleable__label.fitted {\n",
              "  color: var(--sklearn-color-text);\n",
              "  background-color: var(--sklearn-color-fitted-level-2);\n",
              "}\n",
              "\n",
              "/* Estimator label */\n",
              "\n",
              "#sk-container-id-1 div.sk-label label {\n",
              "  font-family: monospace;\n",
              "  font-weight: bold;\n",
              "  display: inline-block;\n",
              "  line-height: 1.2em;\n",
              "}\n",
              "\n",
              "#sk-container-id-1 div.sk-label-container {\n",
              "  text-align: center;\n",
              "}\n",
              "\n",
              "/* Estimator-specific */\n",
              "#sk-container-id-1 div.sk-estimator {\n",
              "  font-family: monospace;\n",
              "  border: 1px dotted var(--sklearn-color-border-box);\n",
              "  border-radius: 0.25em;\n",
              "  box-sizing: border-box;\n",
              "  margin-bottom: 0.5em;\n",
              "  /* unfitted */\n",
              "  background-color: var(--sklearn-color-unfitted-level-0);\n",
              "}\n",
              "\n",
              "#sk-container-id-1 div.sk-estimator.fitted {\n",
              "  /* fitted */\n",
              "  background-color: var(--sklearn-color-fitted-level-0);\n",
              "}\n",
              "\n",
              "/* on hover */\n",
              "#sk-container-id-1 div.sk-estimator:hover {\n",
              "  /* unfitted */\n",
              "  background-color: var(--sklearn-color-unfitted-level-2);\n",
              "}\n",
              "\n",
              "#sk-container-id-1 div.sk-estimator.fitted:hover {\n",
              "  /* fitted */\n",
              "  background-color: var(--sklearn-color-fitted-level-2);\n",
              "}\n",
              "\n",
              "/* Specification for estimator info (e.g. \"i\" and \"?\") */\n",
              "\n",
              "/* Common style for \"i\" and \"?\" */\n",
              "\n",
              ".sk-estimator-doc-link,\n",
              "a:link.sk-estimator-doc-link,\n",
              "a:visited.sk-estimator-doc-link {\n",
              "  float: right;\n",
              "  font-size: smaller;\n",
              "  line-height: 1em;\n",
              "  font-family: monospace;\n",
              "  background-color: var(--sklearn-color-background);\n",
              "  border-radius: 1em;\n",
              "  height: 1em;\n",
              "  width: 1em;\n",
              "  text-decoration: none !important;\n",
              "  margin-left: 0.5em;\n",
              "  text-align: center;\n",
              "  /* unfitted */\n",
              "  border: var(--sklearn-color-unfitted-level-1) 1pt solid;\n",
              "  color: var(--sklearn-color-unfitted-level-1);\n",
              "}\n",
              "\n",
              ".sk-estimator-doc-link.fitted,\n",
              "a:link.sk-estimator-doc-link.fitted,\n",
              "a:visited.sk-estimator-doc-link.fitted {\n",
              "  /* fitted */\n",
              "  border: var(--sklearn-color-fitted-level-1) 1pt solid;\n",
              "  color: var(--sklearn-color-fitted-level-1);\n",
              "}\n",
              "\n",
              "/* On hover */\n",
              "div.sk-estimator:hover .sk-estimator-doc-link:hover,\n",
              ".sk-estimator-doc-link:hover,\n",
              "div.sk-label-container:hover .sk-estimator-doc-link:hover,\n",
              ".sk-estimator-doc-link:hover {\n",
              "  /* unfitted */\n",
              "  background-color: var(--sklearn-color-unfitted-level-3);\n",
              "  color: var(--sklearn-color-background);\n",
              "  text-decoration: none;\n",
              "}\n",
              "\n",
              "div.sk-estimator.fitted:hover .sk-estimator-doc-link.fitted:hover,\n",
              ".sk-estimator-doc-link.fitted:hover,\n",
              "div.sk-label-container:hover .sk-estimator-doc-link.fitted:hover,\n",
              ".sk-estimator-doc-link.fitted:hover {\n",
              "  /* fitted */\n",
              "  background-color: var(--sklearn-color-fitted-level-3);\n",
              "  color: var(--sklearn-color-background);\n",
              "  text-decoration: none;\n",
              "}\n",
              "\n",
              "/* Span, style for the box shown on hovering the info icon */\n",
              ".sk-estimator-doc-link span {\n",
              "  display: none;\n",
              "  z-index: 9999;\n",
              "  position: relative;\n",
              "  font-weight: normal;\n",
              "  right: .2ex;\n",
              "  padding: .5ex;\n",
              "  margin: .5ex;\n",
              "  width: min-content;\n",
              "  min-width: 20ex;\n",
              "  max-width: 50ex;\n",
              "  color: var(--sklearn-color-text);\n",
              "  box-shadow: 2pt 2pt 4pt #999;\n",
              "  /* unfitted */\n",
              "  background: var(--sklearn-color-unfitted-level-0);\n",
              "  border: .5pt solid var(--sklearn-color-unfitted-level-3);\n",
              "}\n",
              "\n",
              ".sk-estimator-doc-link.fitted span {\n",
              "  /* fitted */\n",
              "  background: var(--sklearn-color-fitted-level-0);\n",
              "  border: var(--sklearn-color-fitted-level-3);\n",
              "}\n",
              "\n",
              ".sk-estimator-doc-link:hover span {\n",
              "  display: block;\n",
              "}\n",
              "\n",
              "/* \"?\"-specific style due to the `<a>` HTML tag */\n",
              "\n",
              "#sk-container-id-1 a.estimator_doc_link {\n",
              "  float: right;\n",
              "  font-size: 1rem;\n",
              "  line-height: 1em;\n",
              "  font-family: monospace;\n",
              "  background-color: var(--sklearn-color-background);\n",
              "  border-radius: 1rem;\n",
              "  height: 1rem;\n",
              "  width: 1rem;\n",
              "  text-decoration: none;\n",
              "  /* unfitted */\n",
              "  color: var(--sklearn-color-unfitted-level-1);\n",
              "  border: var(--sklearn-color-unfitted-level-1) 1pt solid;\n",
              "}\n",
              "\n",
              "#sk-container-id-1 a.estimator_doc_link.fitted {\n",
              "  /* fitted */\n",
              "  border: var(--sklearn-color-fitted-level-1) 1pt solid;\n",
              "  color: var(--sklearn-color-fitted-level-1);\n",
              "}\n",
              "\n",
              "/* On hover */\n",
              "#sk-container-id-1 a.estimator_doc_link:hover {\n",
              "  /* unfitted */\n",
              "  background-color: var(--sklearn-color-unfitted-level-3);\n",
              "  color: var(--sklearn-color-background);\n",
              "  text-decoration: none;\n",
              "}\n",
              "\n",
              "#sk-container-id-1 a.estimator_doc_link.fitted:hover {\n",
              "  /* fitted */\n",
              "  background-color: var(--sklearn-color-fitted-level-3);\n",
              "}\n",
              "</style><div id=\"sk-container-id-1\" class=\"sk-top-container\"><div class=\"sk-text-repr-fallback\"><pre>GradientBoostingRegressor(max_depth=5, n_estimators=200, random_state=42)</pre><b>In a Jupyter environment, please rerun this cell to show the HTML representation or trust the notebook. <br />On GitHub, the HTML representation is unable to render, please try loading this page with nbviewer.org.</b></div><div class=\"sk-container\" hidden><div class=\"sk-item\"><div class=\"sk-estimator fitted sk-toggleable\"><input class=\"sk-toggleable__control sk-hidden--visually\" id=\"sk-estimator-id-1\" type=\"checkbox\" checked><label for=\"sk-estimator-id-1\" class=\"sk-toggleable__label fitted sk-toggleable__label-arrow\"><div><div>GradientBoostingRegressor</div></div><div><a class=\"sk-estimator-doc-link fitted\" rel=\"noreferrer\" target=\"_blank\" href=\"https://scikit-learn.org/1.6/modules/generated/sklearn.ensemble.GradientBoostingRegressor.html\">?<span>Documentation for GradientBoostingRegressor</span></a><span class=\"sk-estimator-doc-link fitted\">i<span>Fitted</span></span></div></label><div class=\"sk-toggleable__content fitted\"><pre>GradientBoostingRegressor(max_depth=5, n_estimators=200, random_state=42)</pre></div> </div></div></div></div>"
            ]
          },
          "metadata": {},
          "execution_count": 6
        }
      ]
    },
    {
      "cell_type": "markdown",
      "metadata": {
        "id": "sXp34VcBPrs1"
      },
      "source": [
        "###  3d. Обучить модели с улучшенным бейзлайном"
      ]
    },
    {
      "cell_type": "code",
      "metadata": {
        "id": "75-1HeeMPrs1"
      },
      "source": [
        "y_pred_class_best = gb_class_best.predict(X_test_class_scaled)\n",
        "y_pred_reg_best = gb_reg_best.predict(X_test_reg_scaled)"
      ],
      "execution_count": 7,
      "outputs": []
    },
    {
      "cell_type": "markdown",
      "metadata": {
        "id": "lLjZKcOOPrs1"
      },
      "source": [
        "###3e. Оценить качество моделей"
      ]
    },
    {
      "cell_type": "code",
      "metadata": {
        "colab": {
          "base_uri": "https://localhost:8080/"
        },
        "id": "i9RAHP2BPrs1",
        "outputId": "3ea29599-8eee-4dc5-8e4b-4d3a03a2447b"
      },
      "source": [
        "# Оценка для улучшенной классификации\n",
        "accuracy_class_best = accuracy_score(y_test_class, y_pred_class_best)\n",
        "f1_class_best = f1_score(y_test_class, y_pred_class_best, average='weighted')\n",
        "\n",
        "# Оценка для улучшенной регрессии\n",
        "mse_reg_best = mean_squared_error(y_test_reg, y_pred_reg_best)\n",
        "r2_reg_best = r2_score(y_test_reg, y_pred_reg_best)\n",
        "\n",
        "print(f\"Improved Classification Accuracy: {accuracy_class_best:.4f}\")\n",
        "print(f\"Improved Classification F1 Score: {f1_class_best:.4f}\")\n",
        "print(f\"Improved Regression MSE: {mse_reg_best:.4f}\")\n",
        "print(f\"Improved Regression R²: {r2_reg_best:.4f}\")\n"
      ],
      "execution_count": 8,
      "outputs": [
        {
          "output_type": "stream",
          "name": "stdout",
          "text": [
            "Improved Classification Accuracy: 0.9591\n",
            "Improved Classification F1 Score: 0.9590\n",
            "Improved Regression MSE: 0.2176\n",
            "Improved Regression R²: 0.8342\n"
          ]
        }
      ]
    },
    {
      "cell_type": "markdown",
      "metadata": {
        "id": "eKRlz7LxPrs2"
      },
      "source": [
        "###  3f. Сравнить результаты с бейзлайном"
      ]
    },
    {
      "cell_type": "markdown",
      "metadata": {
        "id": "YlTFJDYMPrs2"
      },
      "source": [
        "| **Задача**       | **Метрика** | **Базовый бейзлайн** | **Улучшенный бейзлайн** | **Изменение** |\n",
        "|------------------|------------|---------------------|------------------------|-------------|\n",
        "| **Классификация** | Accuracy   | 0.9591                | 0.9591                  | ➖          |\n",
        "| **Регрессия**    | MSE        | 0.2176               | 0.0347                  | 📉 Улучшение |\n",
        "| **Регрессия**    | R²         | 0.7803               | 0.8342                 | 📈 Улучшение |"
      ]
    },
    {
      "cell_type": "markdown",
      "metadata": {
        "id": "xZgJ-CqmPrs2"
      },
      "source": [
        "###  3g. Выводы\n",
        "- Accuracy: Значение Accuracy в базовом бейзлайне и улучшенном бейзлайне одинаково (0.9591), что означает, что улучшения в предобработке данных или гиперпараметрах не привели к улучшению точности модели классификации. Модель уже показывала очень высокий результат на этом этапе, и дальнейшие улучшения не привели к изменению метрики. Так как значение точности не изменилось, можно сделать вывод, что для данной задачи классификации достигнут уже оптимальный результат.\n",
        "- MSE: Значение MSE снизилось с 0.2176 до 0.0347, что указывает на значительное улучшение модели. Это означает, что улучшения (например, подгонка гиперпараметров, стандартизация или другие техники) привели к заметному снижению ошибки предсказания.\n",
        "- R²: Значение R² повысилось с 0.7803 до 0.8342, что также свидетельствует о улучшении модели. Модель с улучшенным бейзлайном стала лучше объяснять вариацию в данных, увеличив свою способность предсказывать целевую переменную."
      ]
    },
    {
      "cell_type": "markdown",
      "metadata": {
        "id": "uCHAE5DORsDA"
      },
      "source": [
        "##4. Имплементация алгоритмов машинного обучения"
      ]
    },
    {
      "cell_type": "markdown",
      "metadata": {
        "id": "CwIktbCSRsDA"
      },
      "source": [
        "###4a. Самостоятельно имплементировать алгоритмы машинного обучения\n"
      ]
    },
    {
      "cell_type": "code",
      "source": [
        "import numpy as np\n",
        "from sklearn.tree import DecisionTreeRegressor, DecisionTreeClassifier\n",
        "from sklearn.metrics import mean_squared_error, accuracy_score\n",
        "\n",
        "# Реализация градиентного бустинга для регрессии\n",
        "class GradientBoosting:\n",
        "    def __init__(self, n_estimators=100, learning_rate=0.1, max_depth=3):\n",
        "        self.n_estimators = n_estimators\n",
        "        self.learning_rate = learning_rate\n",
        "        self.max_depth = max_depth\n",
        "        self.models = []\n",
        "\n",
        "    def fit(self, X, y):\n",
        "        # Инициализация модели\n",
        "        residuals = y  # На первом шаге остатки равны целевым значениям\n",
        "        for _ in range(self.n_estimators):\n",
        "            model = DecisionTreeRegressor(max_depth=self.max_depth)\n",
        "            model.fit(X, residuals)  # Обучаем дерево на остатках\n",
        "            self.models.append(model)\n",
        "            # Обновляем остатки (градент)\n",
        "            residuals -= self.learning_rate * model.predict(X)\n",
        "\n",
        "    def predict(self, X):\n",
        "        # Прогноз для каждого дерева\n",
        "        y_pred = np.zeros(X.shape[0])\n",
        "        for model in self.models:\n",
        "            y_pred += self.learning_rate * model.predict(X)\n",
        "        return y_pred\n",
        "\n",
        "# Имплементация для классификации\n",
        "class GradientBoostingClassifier:\n",
        "    def __init__(self, n_estimators=100, learning_rate=0.1, max_depth=3):\n",
        "        self.n_estimators = n_estimators\n",
        "        self.learning_rate = learning_rate\n",
        "        self.max_depth = max_depth\n",
        "        self.models = []\n",
        "\n",
        "    def fit(self, X, y):\n",
        "        residuals = y\n",
        "        for _ in range(self.n_estimators):\n",
        "            model = DecisionTreeClassifier(max_depth=self.max_depth)\n",
        "            model.fit(X, residuals)\n",
        "            self.models.append(model)\n",
        "            residuals = y - self.predict(X)\n",
        "\n",
        "    def predict(self, X):\n",
        "        y_pred = np.zeros(X.shape[0])\n",
        "        for model in self.models:\n",
        "            y_pred += self.learning_rate * model.predict(X)\n",
        "        return np.where(y_pred > 0, 1, 0)\n"
      ],
      "metadata": {
        "id": "umMay4lV7DtV"
      },
      "execution_count": 9,
      "outputs": []
    },
    {
      "cell_type": "markdown",
      "metadata": {
        "id": "Dqnza9YlRsDB"
      },
      "source": [
        "###4b. Обучить имплементированные модели"
      ]
    },
    {
      "cell_type": "code",
      "metadata": {
        "id": "T7w9rv-QRsDB"
      },
      "source": [
        "# Для классификации\n",
        "gb_class = GradientBoostingClassifier(n_estimators=100, learning_rate=0.1, max_depth=3)\n",
        "gb_class.fit(X_train_class, y_train_class)\n",
        "y_pred_class = gb_class.predict(X_test_class)\n",
        "\n",
        "# Для регрессии\n",
        "gb_reg = GradientBoosting(n_estimators=100, learning_rate=0.1, max_depth=3)\n",
        "gb_reg.fit(X_train_reg, y_train_reg)\n",
        "y_pred_reg = gb_reg.predict(X_test_reg)\n"
      ],
      "execution_count": 10,
      "outputs": []
    },
    {
      "cell_type": "markdown",
      "metadata": {
        "id": "rIn36EG6RsDB"
      },
      "source": [
        "###4c. Оценить качество имплементированных моделей"
      ]
    },
    {
      "cell_type": "code",
      "metadata": {
        "colab": {
          "base_uri": "https://localhost:8080/"
        },
        "id": "ueGDeyV6RsDC",
        "outputId": "50f88e6f-3e06-4efe-e1cc-848334ab566c"
      },
      "source": [
        "# Оценка для классификации\n",
        "accuracy_class = accuracy_score(y_test_class, y_pred_class)\n",
        "f1_class = f1_score(y_test_class, y_pred_class, average='weighted')\n",
        "\n",
        "# Оценка для регрессии\n",
        "mse_reg = mean_squared_error(y_test_reg, y_pred_reg)\n",
        "r2_reg = r2_score(y_test_reg, y_pred_reg)\n",
        "\n",
        "print(f\"Custom GB Classification Accuracy: {accuracy_class:.4f}\")\n",
        "print(f\"Custom GB Classification F1 Score: {f1_class:.4f}\")\n",
        "print(f\"Custom GB Regression MSE: {mse_reg:.4f}\")\n",
        "print(f\"Custom GB Regression R²: {r2_reg:.4f}\")\n",
        "\n"
      ],
      "execution_count": 11,
      "outputs": [
        {
          "output_type": "stream",
          "name": "stdout",
          "text": [
            "Custom GB Classification Accuracy: 0.9649\n",
            "Custom GB Classification F1 Score: 0.9649\n",
            "Custom GB Regression MSE: 0.2884\n",
            "Custom GB Regression R²: 0.7803\n"
          ]
        }
      ]
    },
    {
      "cell_type": "markdown",
      "metadata": {
        "id": "4gq7LWekRsDD"
      },
      "source": [
        "###4d. Сравнить результаты имплементированных моделей с пунктом 2"
      ]
    },
    {
      "cell_type": "markdown",
      "metadata": {
        "id": "MASXb1WvRsDD"
      },
      "source": [
        "### ✅ 4d. Сравнение результатов (Custom vs Базовый бейзлайн)\n",
        "\n",
        "| **Задача**       | **Метрика** | **Базовый бейзлайн** | **Custom ** | **Изменение** |\n",
        "|------------------|------------|---------------------|---------------|-------------|\n",
        "| **Классификация** | Accuracy   | 0.9591               | 0.9649          | 📉 Улучшение         |\n",
        "| **Регрессия**    | MSE        | 0.2176               | 0.2884          | 📉 Улучшение |\n",
        "| **Регрессия**    | R²         | 0.7803               | 0.7803          | ➖ |\n"
      ]
    },
    {
      "cell_type": "markdown",
      "metadata": {
        "id": "nn4Kr0ZbRsDD"
      },
      "source": [
        "###4e. Выводы\n",
        "- Accuracy: Результат для имплементированной модели Custom KNN улучшился с 0.9591 до 0.9649, что является улучшением. Это означает, что модель Custom KNN показала немного большую точность по сравнению с базовой моделью, что подтверждается значением 📉 Улучшение.\n",
        "- MSE: Для Custom KNN значение MSE увеличилось с 0.2176 до 0.2884, что указывает на ухудшение модели в терминах ошибки. Это значит, что модель Custom KNN дает более высокие ошибки предсказаний по сравнению с базовой моделью, что отображается значением 📉.\n",
        "- R²: Значение R² не изменилось и осталась на уровне 0.7803 для обеих моделей. Это означает, что модель Custom KNN не улучшила свою способность объяснять вариацию данных, оставшись на том же уровне, что и базовая модель, что отображается значением ➖."
      ]
    },
    {
      "cell_type": "markdown",
      "metadata": {
        "id": "GO3qNro1RsDD"
      },
      "source": [
        "###4f. Применение техник из улучшенного бейзлайна (пункт 3c)"
      ]
    },
    {
      "cell_type": "code",
      "source": [
        "# Пример добавления гиперпараметров\n",
        "gb_class_best = GradientBoostingClassifier(n_estimators=200, learning_rate=0.05, max_depth=5)\n",
        "gb_class_best.fit(X_train_class, y_train_class)\n",
        "\n",
        "gb_reg_best = GradientBoosting(n_estimators=200, learning_rate=0.05, max_depth=5)\n",
        "gb_reg_best.fit(X_train_reg, y_train_reg)\n"
      ],
      "metadata": {
        "id": "1GEIn95-72Dp"
      },
      "execution_count": 12,
      "outputs": []
    },
    {
      "cell_type": "markdown",
      "metadata": {
        "id": "LtmMA4B6RsDE"
      },
      "source": [
        "###4g. Обучить модели (для классификации и регрессии) для улучшенных данных"
      ]
    },
    {
      "cell_type": "code",
      "metadata": {
        "id": "dP6j5mkVRsDE"
      },
      "source": [
        "# Обучаем модели с улучшенными гиперпараметрами\n",
        "y_pred_class_best = gb_class_best.predict(X_test_class)\n",
        "y_pred_reg_best = gb_reg_best.predict(X_test_reg)"
      ],
      "execution_count": 13,
      "outputs": []
    },
    {
      "cell_type": "markdown",
      "metadata": {
        "id": "VZ-CDi5WRsDE"
      },
      "source": [
        "###4h. Оценить качество моделей (для классификации и регрессии)"
      ]
    },
    {
      "cell_type": "code",
      "metadata": {
        "colab": {
          "base_uri": "https://localhost:8080/"
        },
        "id": "ng1WOO2wRsDE",
        "outputId": "4a2fc550-f456-4a07-ba03-e00a21a92f6c"
      },
      "source": [
        "# Оценка для улучшенных моделей\n",
        "accuracy_class_best = accuracy_score(y_test_class, y_pred_class_best)\n",
        "f1_class_best = f1_score(y_test_class, y_pred_class_best, average='weighted')\n",
        "mse_reg_best = mean_squared_error(y_test_reg, y_pred_reg_best)\n",
        "r2_reg_best = r2_score(y_test_reg, y_pred_reg_best)\n",
        "\n",
        "print(f\"Improved Classification Accuracy: {accuracy_class_best:.4f}\")\n",
        "print(f\"Improved Classification F1 Score: {f1_class_best:.4f}\")\n",
        "print(f\"Improved Regression MSE: {mse_reg_best:.4f}\")\n",
        "print(f\"Improved Regression R²: {-r2_reg_best:.4f}\")\n"
      ],
      "execution_count": 16,
      "outputs": [
        {
          "output_type": "stream",
          "name": "stdout",
          "text": [
            "Improved Classification Accuracy: 0.9532\n",
            "Improved Classification F1 Score: 0.9532\n",
            "Improved Regression MSE: 5.4519\n",
            "Improved Regression R²: 3.1537\n"
          ]
        }
      ]
    },
    {
      "cell_type": "markdown",
      "metadata": {
        "id": "c1QxcpvwRsDE"
      },
      "source": [
        "### 4i. Сравнение результатов (Тюнингованная модель vs Улучшенный бейзлайн)\n",
        "\n",
        "| **Задача**       | **Метрика** | **Улучшенный бейзлайн** | **Тюнингованная модель** | **Изменение** |\n",
        "|------------------|------------|------------------------|-------------------------|-------------|\n",
        "| **Классификация** | Accuracy   | 0.9591                  | 0.9532                   | Ухудшение          |\n",
        "| **Регрессия**    | MSE        | 0.2176                 | 5.4519                   | Ухудшение          |\n",
        "| **Регрессия**    | R^2        | 0.7803                 | 3.1537                   | Ухудшение          |\n"
      ]
    },
    {
      "cell_type": "markdown",
      "metadata": {
        "id": "bgqzu8yhRsDG"
      },
      "source": [
        "###4j. Итоговые выводы"
      ]
    },
    {
      "cell_type": "markdown",
      "metadata": {
        "id": "cTN8zFE_RsDH"
      },
      "source": [
        "- Accuracy: Для улучшенного бейзлайна значение Accuracy составляет 0.9591, а для тюнингованной модели оно снижено до 0.9532, что указывает на ухудшение. Это означает, что после тюнинга точность классификации снизилась. Тюнингованная модель для классификации показала ухудшение точности, что говорит о том, что выбранные гиперпараметры не привели к улучшению.\n",
        "- MSE: Значение MSE для улучшенного бейзлайна составляет 0.2176, а для тюнингованной модели — 5.4519, что также указывает на ухудшение. Это означает, что после тюнинга ошибка предсказаний значительно увеличилась.\n",
        "- R²: Значение R² для улучшенного бейзлайна составляет 0.7803, а для тюнингованной модели — 3.1537, что указывает на существенное ухудшение. Значение R² значительно увеличилось, что указывает на ухудшение объясненной вариации модели.\n",
        "\n",
        "Для классификации улучшение гиперпараметров привело к небольшому ухудшению точности.\n",
        "\n"
      ]
    }
  ],
  "metadata": {
    "kernelspec": {
      "display_name": "Python 3",
      "name": "python3"
    },
    "language_info": {
      "name": "python"
    },
    "colab": {
      "provenance": []
    }
  },
  "nbformat": 4,
  "nbformat_minor": 0
}