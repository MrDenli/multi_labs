{
  "cells": [
    {
      "cell_type": "markdown",
      "metadata": {
        "id": "mWFRgchRzIdP"
      },
      "source": [
        "# Лабораторная работа №1: Исследование алгоритма KNN\n",
        "\n",
        "### Цель работы\n",
        "Изучение и применение алгоритма **K-Nearest Neighbors (KNN)** для задач классификации и регрессии.\n",
        "\n",
        "### Задачи лабораторной работы:\n",
        "1. Выбор начальных условий.\n",
        "2. Создание бейзлайна и оценка качества.\n",
        "3. Улучшение бейзлайна.\n",
        "4. Имплементация алгоритма машинного обучения.\n",
        "5. Сравнение результатов и выводы."
      ]
    },
    {
      "cell_type": "markdown",
      "metadata": {
        "id": "UWMvDsazzIdQ"
      },
      "source": [
        "## Шаг 1: Выбор начальных условий\n",
        "\n",
        "### 1a. Датасет для классификации\n",
        "- **Набор данных:** Iris\n",
        "- **Обоснование:** Небольшой, сбалансированный датасет для классификации.\n",
        "\n",
        "### 1b. Датасет для регрессии\n",
        "- **Набор данных:** California Housing\n",
        "- **Обоснование:** Реальные данные о ценах на жильё, подходят для регрессии.\n",
        "\n",
        "### 1c. Метрики качества\n",
        "- **Классификация:** Accuracy\n",
        "- **Обоснование:** Accuracy выбрана как простая и эффективная метрика для оценки качества моделей на сбалансированном датасете Iris.\n",
        "- **Регрессия:** Mean Squared Error (MSE), R²\n",
        "- **Обоснование:** MSE и R² выбраны для оценки моделей регрессии, так как они дают количественную и качественную оценку предсказаний модели на датасете California Housing.\n",
        "-Эти метрики в совокупности обеспечивают всестороннюю оценку моделей KNN как для классификации, так и для регрессии."
      ]
    },
    {
      "cell_type": "code",
      "execution_count": 1,
      "metadata": {
        "id": "An_JLCLRzIdR"
      },
      "outputs": [],
      "source": [
        "# Импорт библиотек\n",
        "import numpy as np\n",
        "import pandas as pd\n",
        "import matplotlib.pyplot as plt\n",
        "import seaborn as sns\n",
        "from sklearn.datasets import load_iris, fetch_california_housing\n",
        "from sklearn.model_selection import train_test_split, GridSearchCV\n",
        "from sklearn.neighbors import KNeighborsClassifier, KNeighborsRegressor\n",
        "from sklearn.metrics import accuracy_score, mean_squared_error, r2_score"
      ]
    },
    {
      "cell_type": "markdown",
      "metadata": {
        "id": "KFDT7JQAzIdS"
      },
      "source": [
        "###  Шаг 2: Создание бейзлайна и оценка качества"
      ]
    },
    {
      "cell_type": "code",
      "execution_count": 2,
      "metadata": {
        "id": "EqsQqc-rzIdS"
      },
      "outputs": [],
      "source": [
        "# Данные для классификации\n",
        "iris = load_iris()\n",
        "X_class, y_class = iris.data, iris.target\n",
        "\n",
        "# Данные для регрессии\n",
        "housing = fetch_california_housing()\n",
        "X_reg, y_reg = housing.data, housing.target\n",
        "\n",
        "# Разделение данных\n",
        "X_train_class, X_test_class, y_train_class, y_test_class = train_test_split(X_class, y_class, test_size=0.2, random_state=42)\n",
        "X_train_reg, X_test_reg, y_train_reg, y_test_reg = train_test_split(X_reg, y_reg, test_size=0.2, random_state=42)"
      ]
    },
    {
      "cell_type": "code",
      "execution_count": 3,
      "metadata": {
        "colab": {
          "base_uri": "https://localhost:8080/"
        },
        "id": "et0QxCxrzIdS",
        "outputId": "6cb7147c-0ca6-4b6b-b722-75fc1510c44e"
      },
      "outputs": [
        {
          "output_type": "stream",
          "name": "stdout",
          "text": [
            "Accuracy (Классификация): 1.00\n",
            "MSE (Регрессия): 1.12\n",
            "R² (Регрессия): 0.15\n"
          ]
        }
      ],
      "source": [
        "# Модель KNN для классификации\n",
        "knn_class = KNeighborsClassifier(n_neighbors=5)\n",
        "knn_class.fit(X_train_class, y_train_class)\n",
        "y_pred_class = knn_class.predict(X_test_class)\n",
        "accuracy = accuracy_score(y_test_class, y_pred_class)\n",
        "print(f'Accuracy (Классификация): {accuracy:.2f}')\n",
        "\n",
        "# Модель KNN для регрессии\n",
        "knn_reg = KNeighborsRegressor(n_neighbors=5)\n",
        "knn_reg.fit(X_train_reg, y_train_reg)\n",
        "y_pred_reg = knn_reg.predict(X_test_reg)\n",
        "mse = mean_squared_error(y_test_reg, y_pred_reg)\n",
        "r2 = r2_score(y_test_reg, y_pred_reg)\n",
        "print(f'MSE (Регрессия): {mse:.2f}')\n",
        "print(f'R² (Регрессия): {r2:.2f}')"
      ]
    },
    {
      "cell_type": "markdown",
      "source": [
        "##  Итоговая оценка качества моделей KNN\n",
        "\n",
        "| **Задача**       | **Метрика** | **Результат** | **Интерпретация**                        |\n",
        "|------------------|------------|--------------|-----------------------------------------|\n",
        "| **Классификация** | Accuracy   | 1.00         | Модель идеально классифицировала данные. Возможно переобучение. |\n",
        "| **Регрессия**    | MSE        | 1.12         | Средняя ошибка предсказаний умеренная.    |\n",
        "| **Регрессия**    | R²         | 0.15         | Модель объясняет только 15% изменчивости данных. |\n"
      ],
      "metadata": {
        "id": "W4g2YS2HAfG8"
      }
    },
    {
      "cell_type": "markdown",
      "metadata": {
        "id": "l_WZnHd-Prs0"
      },
      "source": [
        "##  3. Улучшение бейзлайна"
      ]
    },
    {
      "cell_type": "markdown",
      "metadata": {
        "id": "ozTs09KrPrs0"
      },
      "source": [
        "###  3a. Сформулировать гипотезы\n",
        "- **Препроцессинг данных:** Нормализация, удаление выбросов.\n",
        "- **Визуализация данных:** Исследование распределений и зависимостей.\n",
        "- **Новые признаки:** Создание дополнительных признаков.\n",
        "- **Оптимизация гиперпараметров:** Подбор лучших значений через GridSearchCV."
      ]
    },
    {
      "cell_type": "markdown",
      "metadata": {
        "id": "dgzkKwPWPrs0"
      },
      "source": [
        "###3b. Проверить гипотезы\n",
        "Реализуем препроцессинг, визуализацию и оптимизацию гиперпараметров."
      ]
    },
    {
      "cell_type": "code",
      "metadata": {
        "id": "uy6lqMEIPrs0"
      },
      "source": [
        "# Нормализация данных\n",
        "from sklearn.preprocessing import StandardScaler\n",
        "scaler_class = StandardScaler()\n",
        "X_train_class_scaled = scaler_class.fit_transform(X_train_class)\n",
        "X_test_class_scaled = scaler_class.transform(X_test_class)\n",
        "\n",
        "scaler_reg = StandardScaler()\n",
        "X_train_reg_scaled = scaler_reg.fit_transform(X_train_reg)\n",
        "X_test_reg_scaled = scaler_reg.transform(X_test_reg)"
      ],
      "execution_count": 4,
      "outputs": []
    },
    {
      "cell_type": "code",
      "metadata": {
        "colab": {
          "base_uri": "https://localhost:8080/"
        },
        "id": "tlOClsv-Prs0",
        "outputId": "e912309c-6a84-488b-f134-6ebf34c342e0"
      },
      "source": [
        "# Подбор гиперпараметров\n",
        "from sklearn.model_selection import GridSearchCV\n",
        "from sklearn.neighbors import KNeighborsClassifier, KNeighborsRegressor\n",
        "\n",
        "param_grid = {'n_neighbors': range(1, 21)}\n",
        "grid_class = GridSearchCV(KNeighborsClassifier(), param_grid, cv=5)\n",
        "grid_reg = GridSearchCV(KNeighborsRegressor(), param_grid, cv=5, scoring='r2')\n",
        "\n",
        "grid_class.fit(X_train_class_scaled, y_train_class)\n",
        "grid_reg.fit(X_train_reg_scaled, y_train_reg)\n",
        "\n",
        "print(f'Лучшие параметры для классификации: {grid_class.best_params_}')\n",
        "print(f'Лучшие параметры для регрессии: {grid_reg.best_params_}')"
      ],
      "execution_count": 5,
      "outputs": [
        {
          "output_type": "stream",
          "name": "stdout",
          "text": [
            "Лучшие параметры для классификации: {'n_neighbors': 3}\n",
            "Лучшие параметры для регрессии: {'n_neighbors': 11}\n"
          ]
        }
      ]
    },
    {
      "cell_type": "markdown",
      "metadata": {
        "id": "GZV_vEs8Prs1"
      },
      "source": [
        "###3c. Сформировать улучшенный бейзлайн"
      ]
    },
    {
      "cell_type": "code",
      "metadata": {
        "id": "EzoirNx-Prs1"
      },
      "source": [
        "best_knn_class = grid_class.best_estimator_\n",
        "best_knn_reg = grid_reg.best_estimator_"
      ],
      "execution_count": 6,
      "outputs": []
    },
    {
      "cell_type": "markdown",
      "metadata": {
        "id": "sXp34VcBPrs1"
      },
      "source": [
        "###  3d. Обучить модели с улучшенным бейзлайном"
      ]
    },
    {
      "cell_type": "code",
      "metadata": {
        "id": "75-1HeeMPrs1"
      },
      "source": [
        "# Обучение моделей\n",
        "y_pred_class = best_knn_class.predict(X_test_class_scaled)\n",
        "y_pred_reg = best_knn_reg.predict(X_test_reg_scaled)"
      ],
      "execution_count": 7,
      "outputs": []
    },
    {
      "cell_type": "markdown",
      "metadata": {
        "id": "lLjZKcOOPrs1"
      },
      "source": [
        "###3e. Оценить качество моделей"
      ]
    },
    {
      "cell_type": "code",
      "metadata": {
        "colab": {
          "base_uri": "https://localhost:8080/"
        },
        "id": "i9RAHP2BPrs1",
        "outputId": "b8b77681-eb47-446e-8ff3-28474d0b483c"
      },
      "source": [
        "from sklearn.metrics import accuracy_score, mean_squared_error, r2_score\n",
        "accuracy = accuracy_score(y_test_class, y_pred_class)\n",
        "mse = mean_squared_error(y_test_reg, y_pred_reg)\n",
        "r2 = r2_score(y_test_reg, y_pred_reg)\n",
        "\n",
        "print(f'Accuracy (Классификация): {accuracy:.2f}')\n",
        "print(f'MSE (Регрессия): {mse:.2f}')\n",
        "print(f'R² (Регрессия): {r2:.2f}')"
      ],
      "execution_count": 8,
      "outputs": [
        {
          "output_type": "stream",
          "name": "stdout",
          "text": [
            "Accuracy (Классификация): 1.00\n",
            "MSE (Регрессия): 0.42\n",
            "R² (Регрессия): 0.68\n"
          ]
        }
      ]
    },
    {
      "cell_type": "markdown",
      "metadata": {
        "id": "eKRlz7LxPrs2"
      },
      "source": [
        "###  3f. Сравнить результаты с бейзлайном"
      ]
    },
    {
      "cell_type": "markdown",
      "metadata": {
        "id": "YlTFJDYMPrs2"
      },
      "source": [
        "| **Задача**       | **Метрика** | **Базовый бейзлайн** | **Улучшенный бейзлайн** | **Изменение** |\n",
        "|------------------|------------|---------------------|------------------------|-------------|\n",
        "| **Классификация** | Accuracy   | 1.00               | 1.00                  | ➖          |\n",
        "| **Регрессия**    | MSE        | 1.12               | 0.42                  | 📉 Улучшение |\n",
        "| **Регрессия**    | R²         | 0.15               | 0.68                  | 📈 Улучшение |"
      ]
    },
    {
      "cell_type": "markdown",
      "metadata": {
        "id": "97gEM8P3Prs2"
      },
      "source": [
        "#### Визуализация сравнения результатов"
      ]
    },
    {
      "cell_type": "code",
      "metadata": {
        "colab": {
          "base_uri": "https://localhost:8080/",
          "height": 564
        },
        "id": "CClvBt0IPrs2",
        "outputId": "d5e05847-47ec-42e8-f95b-28e64d45eeac"
      },
      "source": [
        "import matplotlib.pyplot as plt\n",
        "\n",
        "# Данные для сравнения\n",
        "metrics = ['Accuracy', 'MSE', 'R²']\n",
        "baseline = [1.00, 1.12, 0.15]\n",
        "improved = [1.00, 0.42, 0.68]\n",
        "\n",
        "# Визуализация\n",
        "x = range(len(metrics))\n",
        "fig, ax = plt.subplots(figsize=(10, 6))\n",
        "ax.bar(x, baseline, width=0.4, label='Базовый бейзлайн', align='center')\n",
        "ax.bar([i + 0.4 for i in x], improved, width=0.4, label='Улучшенный бейзлайн', align='center')\n",
        "\n",
        "ax.set_xlabel('Метрики')\n",
        "ax.set_ylabel('Значения')\n",
        "ax.set_title('Сравнение результатов моделей (Бейзлайн vs Улучшенный)')\n",
        "ax.set_xticks([i + 0.2 for i in x])\n",
        "ax.set_xticklabels(metrics)\n",
        "ax.legend()\n",
        "\n",
        "plt.show()"
      ],
      "execution_count": 9,
      "outputs": [
        {
          "output_type": "display_data",
          "data": {
            "text/plain": [
              "<Figure size 1000x600 with 1 Axes>"
            ],
            "image/png": "[encoded data removed]"
          },
          "metadata": {}
        }
      ]
    },
    {
      "cell_type": "markdown",
      "metadata": {
        "id": "xZgJ-CqmPrs2"
      },
      "source": [
        "###  3g. Выводы\n",
        "- Улучшение бейзлайна позволило значительно снизить ошибку регрессии (MSE) и повысить коэффициент детерминации (R²).\n",
        "- Accuracy для классификации осталась неизменной, что может говорить о хорошей изначальной настройке модели.\n",
        "- Визуализация наглядно показывает улучшения."
      ]
    },
    {
      "cell_type": "markdown",
      "metadata": {
        "id": "uCHAE5DORsDA"
      },
      "source": [
        "##4. Имплементация алгоритмов машинного обучения"
      ]
    },
    {
      "cell_type": "markdown",
      "metadata": {
        "id": "CwIktbCSRsDA"
      },
      "source": [
        "###4a. Самостоятельно имплементировать алгоритмы машинного обучения\n",
        "Реализуем алгоритм **K-Nearest Neighbors (KNN)** вручную для классификации и регрессии."
      ]
    },
    {
      "cell_type": "code",
      "metadata": {
        "id": "8lfcsXOXRsDB"
      },
      "source": [
        "import numpy as np\n",
        "from collections import Counter\n",
        "from scipy.spatial import distance\n",
        "\n",
        "class CustomKNNClassifier:\n",
        "    def __init__(self, n_neighbors=5):\n",
        "        self.n_neighbors = n_neighbors\n",
        "    def fit(self, X, y):\n",
        "        self.X_train = X\n",
        "        self.y_train = y\n",
        "    def predict(self, X):\n",
        "        return [self._predict(x) for x in X]\n",
        "    def _predict(self, x):\n",
        "        distances = [distance.euclidean(x, x_train) for x_train in self.X_train]\n",
        "        k_indices = np.argsort(distances)[:self.n_neighbors]\n",
        "        k_nearest_labels = [self.y_train[i] for i in k_indices]\n",
        "        return Counter(k_nearest_labels).most_common(1)[0][0]\n",
        "\n",
        "class CustomKNNRegressor:\n",
        "    def __init__(self, n_neighbors=5):\n",
        "        self.n_neighbors = n_neighbors\n",
        "    def fit(self, X, y):\n",
        "        self.X_train = X\n",
        "        self.y_train = y\n",
        "    def predict(self, X):\n",
        "        return [self._predict(x) for x in X]\n",
        "    def _predict(self, x):\n",
        "        distances = [distance.euclidean(x, x_train) for x_train in self.X_train]\n",
        "        k_indices = np.argsort(distances)[:self.n_neighbors]\n",
        "        k_nearest_values = [self.y_train[i] for i in k_indices]\n",
        "        return np.mean(k_nearest_values)"
      ],
      "execution_count": 10,
      "outputs": []
    },
    {
      "cell_type": "markdown",
      "metadata": {
        "id": "Dqnza9YlRsDB"
      },
      "source": [
        "###4b. Обучить имплементированные модели"
      ]
    },
    {
      "cell_type": "code",
      "metadata": {
        "id": "T7w9rv-QRsDB"
      },
      "source": [
        "# Обучение имплементированной модели классификации\n",
        "custom_knn_class = CustomKNNClassifier(n_neighbors=5)\n",
        "custom_knn_class.fit(X_train_class_scaled, y_train_class)\n",
        "y_pred_class_custom = custom_knn_class.predict(X_test_class_scaled)\n",
        "\n",
        "# Обучение имплементированной модели регрессии\n",
        "custom_knn_reg = CustomKNNRegressor(n_neighbors=5)\n",
        "custom_knn_reg.fit(X_train_reg_scaled, y_train_reg)\n",
        "y_pred_reg_custom = custom_knn_reg.predict(X_test_reg_scaled)"
      ],
      "execution_count": 11,
      "outputs": []
    },
    {
      "cell_type": "markdown",
      "metadata": {
        "id": "rIn36EG6RsDB"
      },
      "source": [
        "###4c. Оценить качество имплементированных моделей"
      ]
    },
    {
      "cell_type": "code",
      "metadata": {
        "colab": {
          "base_uri": "https://localhost:8080/"
        },
        "id": "ueGDeyV6RsDC",
        "outputId": "0523441f-f523-45ad-d9b1-5fa78677012e"
      },
      "source": [
        "accuracy_custom = accuracy_score(y_test_class, y_pred_class_custom)\n",
        "mse_custom = mean_squared_error(y_test_reg, y_pred_reg_custom)\n",
        "r2_custom = r2_score(y_test_reg, y_pred_reg_custom)\n",
        "\n",
        "print(f'Accuracy (Классификация, Custom KNN): {accuracy_custom:.2f}')\n",
        "print(f'MSE (Регрессия, Custom KNN): {mse_custom:.2f}')\n",
        "print(f'R² (Регрессия, Custom KNN): {r2_custom:.2f}')"
      ],
      "execution_count": 12,
      "outputs": [
        {
          "metadata": {
            "tags": null
          },
          "name": "stdout",
          "output_type": "stream",
          "text": [
            "Accuracy (Классификация, Custom KNN): 1.00\n",
            "MSE (Регрессия, Custom KNN): 0.43\n",
            "R² (Регрессия, Custom KNN): 0.67\n"
          ]
        }
      ]
    },
    {
      "cell_type": "markdown",
      "metadata": {
        "id": "4gq7LWekRsDD"
      },
      "source": [
        "###4d. Сравнить результаты имплементированных моделей с пунктом 2"
      ]
    },
    {
      "cell_type": "markdown",
      "metadata": {
        "id": "MASXb1WvRsDD"
      },
      "source": [
        "### ✅ 4d. Сравнение результатов (Custom KNN vs Базовый бейзлайн)\n",
        "\n",
        "| **Задача**       | **Метрика** | **Базовый бейзлайн** | **Custom KNN** | **Изменение** |\n",
        "|------------------|------------|---------------------|---------------|-------------|\n",
        "| **Классификация** | Accuracy   | 1.00               | 1.00          | ➖          |\n",
        "| **Регрессия**    | MSE        | 1.12               | 0.43          | 📉 Улучшение |\n",
        "| **Регрессия**    | R²         | 0.15               | 0.67          | 📈 Улучшение |\n"
      ]
    },
    {
      "cell_type": "markdown",
      "metadata": {
        "id": "nn4Kr0ZbRsDD"
      },
      "source": [
        "###4e. Выводы\n",
        "- Самостоятельная реализация KNN показала сопоставимые или улучшенные результаты.\n",
        "- Точность классификации осталась на высоком уровне.\n",
        "- Ошибка регрессии (MSE) снизилась, а коэффициент детерминации (R²) улучшился."
      ]
    },
    {
      "cell_type": "markdown",
      "metadata": {
        "id": "GO3qNro1RsDD"
      },
      "source": [
        "###4f. Применение техник из улучшенного бейзлайна (пункт 3c)"
      ]
    },
    {
      "cell_type": "markdown",
      "metadata": {
        "id": "r362r-KpRsDD"
      },
      "source": [
        "Применяем техники из улучшенного бейзлайна, включая нормализацию данных и оптимизацию гиперпараметров."
      ]
    },
    {
      "cell_type": "code",
      "metadata": {
        "id": "Cp59bfGORsDD"
      },
      "source": [
        "# Применение улучшений из пункта 3c\n",
        "custom_knn_class_tuned = CustomKNNClassifier(n_neighbors=grid_class.best_params_['n_neighbors'])\n",
        "custom_knn_class_tuned.fit(X_train_class_scaled, y_train_class)\n",
        "\n",
        "custom_knn_reg_tuned = CustomKNNRegressor(n_neighbors=grid_reg.best_params_['n_neighbors'])\n",
        "custom_knn_reg_tuned.fit(X_train_reg_scaled, y_train_reg)"
      ],
      "execution_count": 13,
      "outputs": []
    },
    {
      "cell_type": "markdown",
      "metadata": {
        "id": "LtmMA4B6RsDE"
      },
      "source": [
        "###4g. Обучить модели (для классификации и регрессии) для улучшенных данных"
      ]
    },
    {
      "cell_type": "code",
      "metadata": {
        "id": "dP6j5mkVRsDE"
      },
      "source": [
        "# Предсказания на улучшенных данных\n",
        "y_pred_class_tuned = custom_knn_class_tuned.predict(X_test_class_scaled)\n",
        "y_pred_reg_tuned = custom_knn_reg_tuned.predict(X_test_reg_scaled)"
      ],
      "execution_count": 14,
      "outputs": []
    },
    {
      "cell_type": "markdown",
      "metadata": {
        "id": "VZ-CDi5WRsDE"
      },
      "source": [
        "###4h. Оценить качество моделей (для классификации и регрессии)"
      ]
    },
    {
      "cell_type": "code",
      "metadata": {
        "colab": {
          "base_uri": "https://localhost:8080/"
        },
        "id": "ng1WOO2wRsDE",
        "outputId": "436ca179-8ed3-4fe4-d4b8-5a6e8b4c6dbc"
      },
      "source": [
        "accuracy_tuned = accuracy_score(y_test_class, y_pred_class_tuned)\n",
        "mse_tuned = mean_squared_error(y_test_reg, y_pred_reg_tuned)\n",
        "r2_tuned = r2_score(y_test_reg, y_pred_reg_tuned)\n",
        "\n",
        "print(f'Accuracy (Классификация, Тюнингованная модель): {accuracy_tuned:.2f}')\n",
        "print(f'MSE (Регрессия, Тюнингованная модель): {mse_tuned:.2f}')\n",
        "print(f'R² (Регрессия, Тюнингованная модель): {r2_tuned:.2f}')"
      ],
      "execution_count": 15,
      "outputs": [
        {
          "metadata": {
            "tags": null
          },
          "name": "stdout",
          "output_type": "stream",
          "text": [
            "Accuracy (Классификация, Тюнингованная модель): 1.00\n",
            "MSE (Регрессия, Тюнингованная модель): 0.42\n",
            "R² (Регрессия, Тюнингованная модель): 0.68\n"
          ]
        }
      ]
    },
    {
      "cell_type": "markdown",
      "metadata": {
        "id": "oBOsdF8LRsDE"
      },
      "source": [
        "###4i. Сравнить результаты моделей с результатами из пункта 3"
      ]
    },
    {
      "cell_type": "markdown",
      "metadata": {
        "id": "c1QxcpvwRsDE"
      },
      "source": [
        "### 4i. Сравнение результатов (Тюнингованная модель vs Улучшенный бейзлайн)\n",
        "\n",
        "| **Задача**       | **Метрика** | **Улучшенный бейзлайн** | **Тюнингованная модель** | **Изменение** |\n",
        "|------------------|------------|------------------------|-------------------------|-------------|\n",
        "| **Классификация** | Accuracy   | 1.00                  | 1.00                   | ➖          |\n",
        "| **Регрессия**    | MSE        | 0.42                  | 0.42                   | ➖          |\n",
        "| **Регрессия**    | R²         | 0.68                  | 0.68                   | ➖          |\n"
      ]
    },
    {
      "cell_type": "markdown",
      "metadata": {
        "id": "bgqzu8yhRsDG"
      },
      "source": [
        "###4j. Итоговые выводы"
      ]
    },
    {
      "cell_type": "markdown",
      "metadata": {
        "id": "cTN8zFE_RsDH"
      },
      "source": [
        "- Применение улучшенных техник из пункта 3 позволило повысить качество моделей.\n",
        "- Классификация сохранила высокие показатели Accuracy.\n",
        "- Регрессия показала значительное снижение ошибки (MSE) и улучшение коэффициента детерминации (R²).\n",
        "- Визуализация и таблица показали стабильные улучшения моделей.\n",
        "- Тюнинг модели подтвердил, что улучшенный бейзлайн уже достиг своего предела.\n",
        "Отсутствие изменений свидетельствует о хорошем качестве предобработки данных и оптимизации гиперпараметров."
      ]
    }
  ],
  "metadata": {
    "kernelspec": {
      "display_name": "Python 3",
      "name": "python3"
    },
    "language_info": {
      "name": "python"
    },
    "colab": {
      "provenance": []
    }
  },
  "nbformat": 4,
  "nbformat_minor": 0
}