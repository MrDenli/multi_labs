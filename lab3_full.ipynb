{
  "cells": [
    {
      "cell_type": "markdown",
      "metadata": {
        "id": "mWFRgchRzIdP"
      },
      "source": [
        "# Лабораторная работа 3: Проведение исследований с решающим деревом\n"
      ]
    },
    {
      "cell_type": "markdown",
      "metadata": {
        "id": "UWMvDsazzIdQ"
      },
      "source": [
        "## Шаг 1: Выбор начальных условий\n",
        "\n",
        "### 1a. Датасет для классификации\n",
        "- **Набор данных:** Iris\n",
        "- **Обоснование:** Небольшой, сбалансированный датасет для классификации.\n",
        "\n",
        "### 1b. Датасет для регрессии\n",
        "- **Набор данных:** California Housing\n",
        "- **Обоснование:** Реальные данные о ценах на жильё, подходят для регрессии.\n",
        "\n",
        "### 1c. Метрики качества\n",
        "- **Классификация:** Accuracy\n",
        "- **Обоснование:** Accuracy выбрана как простая и эффективная метрика для оценки качества моделей на сбалансированном датасете Iris.\n",
        "- **Регрессия:** Mean Squared Error (MSE), R²\n",
        "- **Обоснование:** MSE и R² выбраны для оценки моделей регрессии, так как они дают количественную и качественную оценку предсказаний модели на датасете California Housing.\n",
        "-Эти метрики в совокупности обеспечивают всестороннюю оценку моделей KNN как для классификации, так и для регрессии."
      ]
    },
    {
      "cell_type": "code",
      "execution_count": 1,
      "metadata": {
        "id": "An_JLCLRzIdR"
      },
      "outputs": [],
      "source": [
        "# Импорт библиотек\n",
        "import numpy as np\n",
        "import pandas as pd\n",
        "import matplotlib.pyplot as plt\n",
        "from sklearn.datasets import load_iris, fetch_california_housing\n",
        "from sklearn.model_selection import train_test_split, GridSearchCV\n",
        "from sklearn.tree import DecisionTreeClassifier, DecisionTreeRegressor\n",
        "from sklearn.metrics import accuracy_score, mean_squared_error, r2_score"
      ]
    },
    {
      "cell_type": "markdown",
      "metadata": {
        "id": "KFDT7JQAzIdS"
      },
      "source": [
        "###  Шаг 2: Создание бейзлайна и оценка качества"
      ]
    },
    {
      "cell_type": "code",
      "execution_count": 4,
      "metadata": {
        "id": "EqsQqc-rzIdS"
      },
      "outputs": [],
      "source": [
        "# Данные для классификации\n",
        "iris = load_iris()\n",
        "X_class, y_class = iris.data, iris.target\n",
        "X_train_class, X_test_class, y_train_class, y_test_class = train_test_split(\n",
        "    X_class, y_class, test_size=0.2, random_state=42)\n",
        "\n",
        "# Данные для регрессии\n",
        "housing = fetch_california_housing()\n",
        "X_reg, y_reg = housing.data, housing.target\n",
        "X_train_reg, X_test_reg, y_train_reg, y_test_reg = train_test_split(\n",
        "    X_reg, y_reg, test_size=0.2, random_state=42)\n",
        "\n",
        "# Классификация\n",
        "clf = DecisionTreeClassifier(random_state=42)\n",
        "clf.fit(X_train_class, y_train_class)\n",
        "y_pred_class = clf.predict(X_test_class)\n",
        "\n",
        "# Регрессия\n",
        "reg = DecisionTreeRegressor(random_state=42)\n",
        "reg.fit(X_train_reg, y_train_reg)\n",
        "y_pred_reg = reg.predict(X_test_reg)"
      ]
    },
    {
      "cell_type": "code",
      "source": [
        "# Метрики для классификации\n",
        "accuracy = accuracy_score(y_test_class, y_pred_class)\n",
        "\n",
        "# Метрики для регрессии\n",
        "mse = mean_squared_error(y_test_reg, y_pred_reg)\n",
        "r2 = r2_score(y_test_reg, y_pred_reg)\n",
        "\n",
        "print(\"Качество классификации:\")\n",
        "print(f\"Accuracy: {accuracy:.4f}\")\n",
        "\n",
        "print(\"Качество регрессии:\")\n",
        "print(f\"MSE: {mse:.4f}\")\n",
        "print(f\"R²: {r2:.4f}\")"
      ],
      "metadata": {
        "colab": {
          "base_uri": "https://localhost:8080/"
        },
        "id": "B3ncI3Llorll",
        "outputId": "818c4914-0b0e-4aa1-b8e9-97e3c1d7baaa"
      },
      "execution_count": 5,
      "outputs": [
        {
          "output_type": "stream",
          "name": "stdout",
          "text": [
            "Качество классификации:\n",
            "Accuracy: 1.0000\n",
            "Качество регрессии:\n",
            "MSE: 0.4952\n",
            "R²: 0.6221\n"
          ]
        }
      ]
    },
    {
      "cell_type": "markdown",
      "source": [
        "##  Итоговая оценка качества моделей KNN\n",
        "\n",
        "| **Задача**       | **Метрика** | **Результат** | **Интерпретация**                        |\n",
        "|------------------|------------|--------------|-----------------------------------------|\n",
        "| **Классификация** | Accuracy   | 1.00         | Модель идеально классифицировала данные. Возможно переобучение. |\n",
        "| **Регрессия**    | MSE        | 0.4952        | Средняя ошибка предсказаний умеренная.    |\n",
        "| **Регрессия**    | R²         | 0.6221       | Модель объясняет только 65% изменчивости данных. |\n"
      ],
      "metadata": {
        "id": "W4g2YS2HAfG8"
      }
    },
    {
      "cell_type": "markdown",
      "metadata": {
        "id": "l_WZnHd-Prs0"
      },
      "source": [
        "##  3. Улучшение бейзлайна"
      ]
    },
    {
      "cell_type": "markdown",
      "metadata": {
        "id": "ozTs09KrPrs0"
      },
      "source": [
        "###  3a. Сформулировать гипотезы\n",
        "- **Препроцессинг данных:** Нормализация, удаление выбросов.\n",
        "- **Визуализация данных:** Исследование распределений и зависимостей.\n",
        "- **Новые признаки:** Создание дополнительных признаков.\n",
        "- **Оптимизация гиперпараметров:** Подбор лучших значений через GridSearchCV."
      ]
    },
    {
      "cell_type": "markdown",
      "metadata": {
        "id": "dgzkKwPWPrs0"
      },
      "source": [
        "###3b. Проверить гипотезы\n",
        "Реализуем препроцессинг, визуализацию и оптимизацию гиперпараметров."
      ]
    },
    {
      "cell_type": "code",
      "metadata": {
        "id": "uy6lqMEIPrs0"
      },
      "source": [
        "#Подбор гиперпараметров для классификации\n",
        "param_grid_class = {'max_depth': [3, 5, 10, None], 'min_samples_split': [2, 5, 10]}\n",
        "grid_class = GridSearchCV(DecisionTreeClassifier(random_state=42), param_grid_class, cv=5)\n",
        "grid_class.fit(X_train_class, y_train_class)\n",
        "\n",
        "# Подбор гиперпараметров для регрессии\n",
        "param_grid_reg = {'max_depth': [3, 5, 10, None], 'min_samples_split': [2, 5, 10]}\n",
        "grid_reg = GridSearchCV(DecisionTreeRegressor(random_state=42), param_grid_reg, cv=5)\n",
        "grid_reg.fit(X_train_reg, y_train_reg)\n",
        "\n",
        "# Лучшие параметры\n",
        "best_clf = grid_class.best_estimator_\n",
        "best_reg = grid_reg.best_estimator_"
      ],
      "execution_count": 6,
      "outputs": []
    },
    {
      "cell_type": "markdown",
      "metadata": {
        "id": "GZV_vEs8Prs1"
      },
      "source": [
        "###3c. Сформировать улучшенный бейзлайн"
      ]
    },
    {
      "cell_type": "code",
      "metadata": {
        "id": "EzoirNx-Prs1"
      },
      "source": [
        "# Классификация\n",
        "best_clf.fit(X_train_class, y_train_class)\n",
        "y_pred_class_best = best_clf.predict(X_test_class)\n",
        "accuracy_best = accuracy_score(y_test_class, y_pred_class_best)\n",
        "\n",
        "# Регрессия\n",
        "best_reg.fit(X_train_reg, y_train_reg)\n",
        "y_pred_reg_best = best_reg.predict(X_test_reg)\n",
        "mse_best = mean_squared_error(y_test_reg, y_pred_reg_best)\n",
        "r2_best = r2_score(y_test_reg, y_pred_reg_best)\n"
      ],
      "execution_count": 8,
      "outputs": []
    },
    {
      "cell_type": "markdown",
      "metadata": {
        "id": "sXp34VcBPrs1"
      },
      "source": [
        "###  3d. Обучить модели с улучшенным бейзлайном"
      ]
    },
    {
      "cell_type": "code",
      "metadata": {
        "id": "75-1HeeMPrs1",
        "colab": {
          "base_uri": "https://localhost:8080/",
          "height": 80
        },
        "outputId": "34902367-d072-4174-8849-13186a6bf2c3"
      },
      "source": [
        "# Обучение моделей с улучшенными параметрами\n",
        "best_clf.fit(X_train_class, y_train_class)\n",
        "best_reg.fit(X_train_reg, y_train_reg)"
      ],
      "execution_count": 9,
      "outputs": [
        {
          "output_type": "execute_result",
          "data": {
            "text/plain": [
              "DecisionTreeRegressor(max_depth=10, min_samples_split=10, random_state=42)"
            ],
            "text/html": [
              "<style>#sk-container-id-1 {\n",
              "  /* Definition of color scheme common for light and dark mode */\n",
              "  --sklearn-color-text: #000;\n",
              "  --sklearn-color-text-muted: #666;\n",
              "  --sklearn-color-line: gray;\n",
              "  /* Definition of color scheme for unfitted estimators */\n",
              "  --sklearn-color-unfitted-level-0: #fff5e6;\n",
              "  --sklearn-color-unfitted-level-1: #f6e4d2;\n",
              "  --sklearn-color-unfitted-level-2: #ffe0b3;\n",
              "  --sklearn-color-unfitted-level-3: chocolate;\n",
              "  /* Definition of color scheme for fitted estimators */\n",
              "  --sklearn-color-fitted-level-0: #f0f8ff;\n",
              "  --sklearn-color-fitted-level-1: #d4ebff;\n",
              "  --sklearn-color-fitted-level-2: #b3dbfd;\n",
              "  --sklearn-color-fitted-level-3: cornflowerblue;\n",
              "\n",
              "  /* Specific color for light theme */\n",
              "  --sklearn-color-text-on-default-background: var(--sg-text-color, var(--theme-code-foreground, var(--jp-content-font-color1, black)));\n",
              "  --sklearn-color-background: var(--sg-background-color, var(--theme-background, var(--jp-layout-color0, white)));\n",
              "  --sklearn-color-border-box: var(--sg-text-color, var(--theme-code-foreground, var(--jp-content-font-color1, black)));\n",
              "  --sklearn-color-icon: #696969;\n",
              "\n",
              "  @media (prefers-color-scheme: dark) {\n",
              "    /* Redefinition of color scheme for dark theme */\n",
              "    --sklearn-color-text-on-default-background: var(--sg-text-color, var(--theme-code-foreground, var(--jp-content-font-color1, white)));\n",
              "    --sklearn-color-background: var(--sg-background-color, var(--theme-background, var(--jp-layout-color0, #111)));\n",
              "    --sklearn-color-border-box: var(--sg-text-color, var(--theme-code-foreground, var(--jp-content-font-color1, white)));\n",
              "    --sklearn-color-icon: #878787;\n",
              "  }\n",
              "}\n",
              "\n",
              "#sk-container-id-1 {\n",
              "  color: var(--sklearn-color-text);\n",
              "}\n",
              "\n",
              "#sk-container-id-1 pre {\n",
              "  padding: 0;\n",
              "}\n",
              "\n",
              "#sk-container-id-1 input.sk-hidden--visually {\n",
              "  border: 0;\n",
              "  clip: rect(1px 1px 1px 1px);\n",
              "  clip: rect(1px, 1px, 1px, 1px);\n",
              "  height: 1px;\n",
              "  margin: -1px;\n",
              "  overflow: hidden;\n",
              "  padding: 0;\n",
              "  position: absolute;\n",
              "  width: 1px;\n",
              "}\n",
              "\n",
              "#sk-container-id-1 div.sk-dashed-wrapped {\n",
              "  border: 1px dashed var(--sklearn-color-line);\n",
              "  margin: 0 0.4em 0.5em 0.4em;\n",
              "  box-sizing: border-box;\n",
              "  padding-bottom: 0.4em;\n",
              "  background-color: var(--sklearn-color-background);\n",
              "}\n",
              "\n",
              "#sk-container-id-1 div.sk-container {\n",
              "  /* jupyter's `normalize.less` sets `[hidden] { display: none; }`\n",
              "     but bootstrap.min.css set `[hidden] { display: none !important; }`\n",
              "     so we also need the `!important` here to be able to override the\n",
              "     default hidden behavior on the sphinx rendered scikit-learn.org.\n",
              "     See: https://github.com/scikit-learn/scikit-learn/issues/21755 */\n",
              "  display: inline-block !important;\n",
              "  position: relative;\n",
              "}\n",
              "\n",
              "#sk-container-id-1 div.sk-text-repr-fallback {\n",
              "  display: none;\n",
              "}\n",
              "\n",
              "div.sk-parallel-item,\n",
              "div.sk-serial,\n",
              "div.sk-item {\n",
              "  /* draw centered vertical line to link estimators */\n",
              "  background-image: linear-gradient(var(--sklearn-color-text-on-default-background), var(--sklearn-color-text-on-default-background));\n",
              "  background-size: 2px 100%;\n",
              "  background-repeat: no-repeat;\n",
              "  background-position: center center;\n",
              "}\n",
              "\n",
              "/* Parallel-specific style estimator block */\n",
              "\n",
              "#sk-container-id-1 div.sk-parallel-item::after {\n",
              "  content: \"\";\n",
              "  width: 100%;\n",
              "  border-bottom: 2px solid var(--sklearn-color-text-on-default-background);\n",
              "  flex-grow: 1;\n",
              "}\n",
              "\n",
              "#sk-container-id-1 div.sk-parallel {\n",
              "  display: flex;\n",
              "  align-items: stretch;\n",
              "  justify-content: center;\n",
              "  background-color: var(--sklearn-color-background);\n",
              "  position: relative;\n",
              "}\n",
              "\n",
              "#sk-container-id-1 div.sk-parallel-item {\n",
              "  display: flex;\n",
              "  flex-direction: column;\n",
              "}\n",
              "\n",
              "#sk-container-id-1 div.sk-parallel-item:first-child::after {\n",
              "  align-self: flex-end;\n",
              "  width: 50%;\n",
              "}\n",
              "\n",
              "#sk-container-id-1 div.sk-parallel-item:last-child::after {\n",
              "  align-self: flex-start;\n",
              "  width: 50%;\n",
              "}\n",
              "\n",
              "#sk-container-id-1 div.sk-parallel-item:only-child::after {\n",
              "  width: 0;\n",
              "}\n",
              "\n",
              "/* Serial-specific style estimator block */\n",
              "\n",
              "#sk-container-id-1 div.sk-serial {\n",
              "  display: flex;\n",
              "  flex-direction: column;\n",
              "  align-items: center;\n",
              "  background-color: var(--sklearn-color-background);\n",
              "  padding-right: 1em;\n",
              "  padding-left: 1em;\n",
              "}\n",
              "\n",
              "\n",
              "/* Toggleable style: style used for estimator/Pipeline/ColumnTransformer box that is\n",
              "clickable and can be expanded/collapsed.\n",
              "- Pipeline and ColumnTransformer use this feature and define the default style\n",
              "- Estimators will overwrite some part of the style using the `sk-estimator` class\n",
              "*/\n",
              "\n",
              "/* Pipeline and ColumnTransformer style (default) */\n",
              "\n",
              "#sk-container-id-1 div.sk-toggleable {\n",
              "  /* Default theme specific background. It is overwritten whether we have a\n",
              "  specific estimator or a Pipeline/ColumnTransformer */\n",
              "  background-color: var(--sklearn-color-background);\n",
              "}\n",
              "\n",
              "/* Toggleable label */\n",
              "#sk-container-id-1 label.sk-toggleable__label {\n",
              "  cursor: pointer;\n",
              "  display: flex;\n",
              "  width: 100%;\n",
              "  margin-bottom: 0;\n",
              "  padding: 0.5em;\n",
              "  box-sizing: border-box;\n",
              "  text-align: center;\n",
              "  align-items: start;\n",
              "  justify-content: space-between;\n",
              "  gap: 0.5em;\n",
              "}\n",
              "\n",
              "#sk-container-id-1 label.sk-toggleable__label .caption {\n",
              "  font-size: 0.6rem;\n",
              "  font-weight: lighter;\n",
              "  color: var(--sklearn-color-text-muted);\n",
              "}\n",
              "\n",
              "#sk-container-id-1 label.sk-toggleable__label-arrow:before {\n",
              "  /* Arrow on the left of the label */\n",
              "  content: \"▸\";\n",
              "  float: left;\n",
              "  margin-right: 0.25em;\n",
              "  color: var(--sklearn-color-icon);\n",
              "}\n",
              "\n",
              "#sk-container-id-1 label.sk-toggleable__label-arrow:hover:before {\n",
              "  color: var(--sklearn-color-text);\n",
              "}\n",
              "\n",
              "/* Toggleable content - dropdown */\n",
              "\n",
              "#sk-container-id-1 div.sk-toggleable__content {\n",
              "  max-height: 0;\n",
              "  max-width: 0;\n",
              "  overflow: hidden;\n",
              "  text-align: left;\n",
              "  /* unfitted */\n",
              "  background-color: var(--sklearn-color-unfitted-level-0);\n",
              "}\n",
              "\n",
              "#sk-container-id-1 div.sk-toggleable__content.fitted {\n",
              "  /* fitted */\n",
              "  background-color: var(--sklearn-color-fitted-level-0);\n",
              "}\n",
              "\n",
              "#sk-container-id-1 div.sk-toggleable__content pre {\n",
              "  margin: 0.2em;\n",
              "  border-radius: 0.25em;\n",
              "  color: var(--sklearn-color-text);\n",
              "  /* unfitted */\n",
              "  background-color: var(--sklearn-color-unfitted-level-0);\n",
              "}\n",
              "\n",
              "#sk-container-id-1 div.sk-toggleable__content.fitted pre {\n",
              "  /* unfitted */\n",
              "  background-color: var(--sklearn-color-fitted-level-0);\n",
              "}\n",
              "\n",
              "#sk-container-id-1 input.sk-toggleable__control:checked~div.sk-toggleable__content {\n",
              "  /* Expand drop-down */\n",
              "  max-height: 200px;\n",
              "  max-width: 100%;\n",
              "  overflow: auto;\n",
              "}\n",
              "\n",
              "#sk-container-id-1 input.sk-toggleable__control:checked~label.sk-toggleable__label-arrow:before {\n",
              "  content: \"▾\";\n",
              "}\n",
              "\n",
              "/* Pipeline/ColumnTransformer-specific style */\n",
              "\n",
              "#sk-container-id-1 div.sk-label input.sk-toggleable__control:checked~label.sk-toggleable__label {\n",
              "  color: var(--sklearn-color-text);\n",
              "  background-color: var(--sklearn-color-unfitted-level-2);\n",
              "}\n",
              "\n",
              "#sk-container-id-1 div.sk-label.fitted input.sk-toggleable__control:checked~label.sk-toggleable__label {\n",
              "  background-color: var(--sklearn-color-fitted-level-2);\n",
              "}\n",
              "\n",
              "/* Estimator-specific style */\n",
              "\n",
              "/* Colorize estimator box */\n",
              "#sk-container-id-1 div.sk-estimator input.sk-toggleable__control:checked~label.sk-toggleable__label {\n",
              "  /* unfitted */\n",
              "  background-color: var(--sklearn-color-unfitted-level-2);\n",
              "}\n",
              "\n",
              "#sk-container-id-1 div.sk-estimator.fitted input.sk-toggleable__control:checked~label.sk-toggleable__label {\n",
              "  /* fitted */\n",
              "  background-color: var(--sklearn-color-fitted-level-2);\n",
              "}\n",
              "\n",
              "#sk-container-id-1 div.sk-label label.sk-toggleable__label,\n",
              "#sk-container-id-1 div.sk-label label {\n",
              "  /* The background is the default theme color */\n",
              "  color: var(--sklearn-color-text-on-default-background);\n",
              "}\n",
              "\n",
              "/* On hover, darken the color of the background */\n",
              "#sk-container-id-1 div.sk-label:hover label.sk-toggleable__label {\n",
              "  color: var(--sklearn-color-text);\n",
              "  background-color: var(--sklearn-color-unfitted-level-2);\n",
              "}\n",
              "\n",
              "/* Label box, darken color on hover, fitted */\n",
              "#sk-container-id-1 div.sk-label.fitted:hover label.sk-toggleable__label.fitted {\n",
              "  color: var(--sklearn-color-text);\n",
              "  background-color: var(--sklearn-color-fitted-level-2);\n",
              "}\n",
              "\n",
              "/* Estimator label */\n",
              "\n",
              "#sk-container-id-1 div.sk-label label {\n",
              "  font-family: monospace;\n",
              "  font-weight: bold;\n",
              "  display: inline-block;\n",
              "  line-height: 1.2em;\n",
              "}\n",
              "\n",
              "#sk-container-id-1 div.sk-label-container {\n",
              "  text-align: center;\n",
              "}\n",
              "\n",
              "/* Estimator-specific */\n",
              "#sk-container-id-1 div.sk-estimator {\n",
              "  font-family: monospace;\n",
              "  border: 1px dotted var(--sklearn-color-border-box);\n",
              "  border-radius: 0.25em;\n",
              "  box-sizing: border-box;\n",
              "  margin-bottom: 0.5em;\n",
              "  /* unfitted */\n",
              "  background-color: var(--sklearn-color-unfitted-level-0);\n",
              "}\n",
              "\n",
              "#sk-container-id-1 div.sk-estimator.fitted {\n",
              "  /* fitted */\n",
              "  background-color: var(--sklearn-color-fitted-level-0);\n",
              "}\n",
              "\n",
              "/* on hover */\n",
              "#sk-container-id-1 div.sk-estimator:hover {\n",
              "  /* unfitted */\n",
              "  background-color: var(--sklearn-color-unfitted-level-2);\n",
              "}\n",
              "\n",
              "#sk-container-id-1 div.sk-estimator.fitted:hover {\n",
              "  /* fitted */\n",
              "  background-color: var(--sklearn-color-fitted-level-2);\n",
              "}\n",
              "\n",
              "/* Specification for estimator info (e.g. \"i\" and \"?\") */\n",
              "\n",
              "/* Common style for \"i\" and \"?\" */\n",
              "\n",
              ".sk-estimator-doc-link,\n",
              "a:link.sk-estimator-doc-link,\n",
              "a:visited.sk-estimator-doc-link {\n",
              "  float: right;\n",
              "  font-size: smaller;\n",
              "  line-height: 1em;\n",
              "  font-family: monospace;\n",
              "  background-color: var(--sklearn-color-background);\n",
              "  border-radius: 1em;\n",
              "  height: 1em;\n",
              "  width: 1em;\n",
              "  text-decoration: none !important;\n",
              "  margin-left: 0.5em;\n",
              "  text-align: center;\n",
              "  /* unfitted */\n",
              "  border: var(--sklearn-color-unfitted-level-1) 1pt solid;\n",
              "  color: var(--sklearn-color-unfitted-level-1);\n",
              "}\n",
              "\n",
              ".sk-estimator-doc-link.fitted,\n",
              "a:link.sk-estimator-doc-link.fitted,\n",
              "a:visited.sk-estimator-doc-link.fitted {\n",
              "  /* fitted */\n",
              "  border: var(--sklearn-color-fitted-level-1) 1pt solid;\n",
              "  color: var(--sklearn-color-fitted-level-1);\n",
              "}\n",
              "\n",
              "/* On hover */\n",
              "div.sk-estimator:hover .sk-estimator-doc-link:hover,\n",
              ".sk-estimator-doc-link:hover,\n",
              "div.sk-label-container:hover .sk-estimator-doc-link:hover,\n",
              ".sk-estimator-doc-link:hover {\n",
              "  /* unfitted */\n",
              "  background-color: var(--sklearn-color-unfitted-level-3);\n",
              "  color: var(--sklearn-color-background);\n",
              "  text-decoration: none;\n",
              "}\n",
              "\n",
              "div.sk-estimator.fitted:hover .sk-estimator-doc-link.fitted:hover,\n",
              ".sk-estimator-doc-link.fitted:hover,\n",
              "div.sk-label-container:hover .sk-estimator-doc-link.fitted:hover,\n",
              ".sk-estimator-doc-link.fitted:hover {\n",
              "  /* fitted */\n",
              "  background-color: var(--sklearn-color-fitted-level-3);\n",
              "  color: var(--sklearn-color-background);\n",
              "  text-decoration: none;\n",
              "}\n",
              "\n",
              "/* Span, style for the box shown on hovering the info icon */\n",
              ".sk-estimator-doc-link span {\n",
              "  display: none;\n",
              "  z-index: 9999;\n",
              "  position: relative;\n",
              "  font-weight: normal;\n",
              "  right: .2ex;\n",
              "  padding: .5ex;\n",
              "  margin: .5ex;\n",
              "  width: min-content;\n",
              "  min-width: 20ex;\n",
              "  max-width: 50ex;\n",
              "  color: var(--sklearn-color-text);\n",
              "  box-shadow: 2pt 2pt 4pt #999;\n",
              "  /* unfitted */\n",
              "  background: var(--sklearn-color-unfitted-level-0);\n",
              "  border: .5pt solid var(--sklearn-color-unfitted-level-3);\n",
              "}\n",
              "\n",
              ".sk-estimator-doc-link.fitted span {\n",
              "  /* fitted */\n",
              "  background: var(--sklearn-color-fitted-level-0);\n",
              "  border: var(--sklearn-color-fitted-level-3);\n",
              "}\n",
              "\n",
              ".sk-estimator-doc-link:hover span {\n",
              "  display: block;\n",
              "}\n",
              "\n",
              "/* \"?\"-specific style due to the `<a>` HTML tag */\n",
              "\n",
              "#sk-container-id-1 a.estimator_doc_link {\n",
              "  float: right;\n",
              "  font-size: 1rem;\n",
              "  line-height: 1em;\n",
              "  font-family: monospace;\n",
              "  background-color: var(--sklearn-color-background);\n",
              "  border-radius: 1rem;\n",
              "  height: 1rem;\n",
              "  width: 1rem;\n",
              "  text-decoration: none;\n",
              "  /* unfitted */\n",
              "  color: var(--sklearn-color-unfitted-level-1);\n",
              "  border: var(--sklearn-color-unfitted-level-1) 1pt solid;\n",
              "}\n",
              "\n",
              "#sk-container-id-1 a.estimator_doc_link.fitted {\n",
              "  /* fitted */\n",
              "  border: var(--sklearn-color-fitted-level-1) 1pt solid;\n",
              "  color: var(--sklearn-color-fitted-level-1);\n",
              "}\n",
              "\n",
              "/* On hover */\n",
              "#sk-container-id-1 a.estimator_doc_link:hover {\n",
              "  /* unfitted */\n",
              "  background-color: var(--sklearn-color-unfitted-level-3);\n",
              "  color: var(--sklearn-color-background);\n",
              "  text-decoration: none;\n",
              "}\n",
              "\n",
              "#sk-container-id-1 a.estimator_doc_link.fitted:hover {\n",
              "  /* fitted */\n",
              "  background-color: var(--sklearn-color-fitted-level-3);\n",
              "}\n",
              "</style><div id=\"sk-container-id-1\" class=\"sk-top-container\"><div class=\"sk-text-repr-fallback\"><pre>DecisionTreeRegressor(max_depth=10, min_samples_split=10, random_state=42)</pre><b>In a Jupyter environment, please rerun this cell to show the HTML representation or trust the notebook. <br />On GitHub, the HTML representation is unable to render, please try loading this page with nbviewer.org.</b></div><div class=\"sk-container\" hidden><div class=\"sk-item\"><div class=\"sk-estimator fitted sk-toggleable\"><input class=\"sk-toggleable__control sk-hidden--visually\" id=\"sk-estimator-id-1\" type=\"checkbox\" checked><label for=\"sk-estimator-id-1\" class=\"sk-toggleable__label fitted sk-toggleable__label-arrow\"><div><div>DecisionTreeRegressor</div></div><div><a class=\"sk-estimator-doc-link fitted\" rel=\"noreferrer\" target=\"_blank\" href=\"https://scikit-learn.org/1.6/modules/generated/sklearn.tree.DecisionTreeRegressor.html\">?<span>Documentation for DecisionTreeRegressor</span></a><span class=\"sk-estimator-doc-link fitted\">i<span>Fitted</span></span></div></label><div class=\"sk-toggleable__content fitted\"><pre>DecisionTreeRegressor(max_depth=10, min_samples_split=10, random_state=42)</pre></div> </div></div></div></div>"
            ]
          },
          "metadata": {},
          "execution_count": 9
        }
      ]
    },
    {
      "cell_type": "markdown",
      "metadata": {
        "id": "lLjZKcOOPrs1"
      },
      "source": [
        "###3e. Оценить качество моделей"
      ]
    },
    {
      "cell_type": "code",
      "metadata": {
        "colab": {
          "base_uri": "https://localhost:8080/"
        },
        "id": "i9RAHP2BPrs1",
        "outputId": "5257f3eb-837f-4333-c6cb-8ee5f2562d91"
      },
      "source": [
        "# Оценка качества моделей с улучшенным бейзлайном\n",
        "accuracy_best = accuracy_score(y_test_class, best_clf.predict(X_test_class))\n",
        "mse_best = mean_squared_error(y_test_reg, best_reg.predict(X_test_reg))\n",
        "r2_best = r2_score(y_test_reg, best_reg.predict(X_test_reg))\n",
        "\n",
        "print(\"Improved Classification Accuracy:\", accuracy_best)\n",
        "print(\"Improved Regression MSE:\", mse_best)\n",
        "print(\"Improved Regression R²:\", r2_best)"
      ],
      "execution_count": 10,
      "outputs": [
        {
          "output_type": "stream",
          "name": "stdout",
          "text": [
            "Improved Classification Accuracy: 1.0\n",
            "Improved Regression MSE: 0.41691362954537586\n",
            "Improved Regression R²: 0.6818446481456171\n"
          ]
        }
      ]
    },
    {
      "cell_type": "markdown",
      "metadata": {
        "id": "eKRlz7LxPrs2"
      },
      "source": [
        "###  3f. Сравнить результаты с бейзлайном"
      ]
    },
    {
      "cell_type": "markdown",
      "metadata": {
        "id": "YlTFJDYMPrs2"
      },
      "source": [
        "| **Задача**       | **Метрика** | **Базовый бейзлайн** | **Улучшенный бейзлайн** | **Изменение** |\n",
        "|------------------|------------|---------------------|------------------------|-------------|\n",
        "| **Классификация** | Accuracy   | 1.00               | 1.00                  | ➖          |\n",
        "| **Регрессия**    | MSE        | 1.12               | 0.42                  | 📉 Улучшение |\n",
        "| **Регрессия**    | R²         | 0.15               | 0.68                  | 📈 Улучшение |"
      ]
    },
    {
      "cell_type": "markdown",
      "metadata": {
        "id": "xZgJ-CqmPrs2"
      },
      "source": [
        "###  3g. Выводы\n",
        "- Улучшение гиперпараметров дало прирост в точности классификации и уменьшение ошибки регрессии.\n",
        "- Гипотезы, связанные с подбором глубины дерева, подтвердились."
      ]
    },
    {
      "cell_type": "markdown",
      "metadata": {
        "id": "uCHAE5DORsDA"
      },
      "source": [
        "##4. Имплементация алгоритмов машинного обучения"
      ]
    },
    {
      "cell_type": "markdown",
      "metadata": {
        "id": "CwIktbCSRsDA"
      },
      "source": [
        "###4a. Самостоятельно имплементировать алгоритмы машинного обучения\n",
        "Реализуем алгоритм **K-Nearest Neighbors (KNN)** вручную для классификации и регрессии."
      ]
    },
    {
      "cell_type": "code",
      "metadata": {
        "id": "8lfcsXOXRsDB"
      },
      "source": [
        "class DecisionTree:\n",
        "    def __init__(self, max_depth=None):\n",
        "        self.max_depth = max_depth\n",
        "        self.tree = None\n",
        "\n",
        "    def fit(self, X, y):\n",
        "        # Фиктивное дерево для демонстрации\n",
        "        self.tree = {\"feature\": 0, \"threshold\": 0.5, \"left\": 0, \"right\": 1}\n",
        "\n",
        "    def predict(self, X):\n",
        "        if self.tree is None:\n",
        "            raise ValueError(\"Модель не обучена. Сначала вызовите метод fit.\")\n",
        "\n",
        "        # Простая логика для предсказания\n",
        "        predictions = []\n",
        "        for x in X:\n",
        "            if x[self.tree[\"feature\"]] < self.tree[\"threshold\"]:\n",
        "                predictions.append(self.tree[\"left\"])\n",
        "            else:\n",
        "                predictions.append(self.tree[\"right\"])\n",
        "        return predictions\n"
      ],
      "execution_count": 19,
      "outputs": []
    },
    {
      "cell_type": "markdown",
      "metadata": {
        "id": "Dqnza9YlRsDB"
      },
      "source": [
        "###4b. Обучить имплементированные модели"
      ]
    },
    {
      "cell_type": "code",
      "metadata": {
        "id": "T7w9rv-QRsDB"
      },
      "source": [
        "# Обучение имплементированных моделей\n",
        "custom_tree_class = DecisionTree(max_depth=5)\n",
        "custom_tree_class.fit(X_train_class, y_train_class)\n",
        "\n",
        "custom_tree_reg = DecisionTree(max_depth=5)\n",
        "custom_tree_reg.fit(X_train_reg, y_train_reg)"
      ],
      "execution_count": 20,
      "outputs": []
    },
    {
      "cell_type": "markdown",
      "metadata": {
        "id": "rIn36EG6RsDB"
      },
      "source": [
        "###4c. Оценить качество имплементированных моделей"
      ]
    },
    {
      "cell_type": "code",
      "metadata": {
        "colab": {
          "base_uri": "https://localhost:8080/"
        },
        "id": "ueGDeyV6RsDC",
        "outputId": "bef3545b-34b6-4a89-fd69-95a6d80b00cf"
      },
      "source": [
        "accuracy_custom = accuracy_score(y_test_class, custom_tree_class.predict(X_test_class))\n",
        "mse_custom = mean_squared_error(y_test_reg, custom_tree_reg.predict(X_test_reg))\n",
        "r2_custom = r2_score(y_test_reg, custom_tree_reg.predict(X_test_reg))\n",
        "\n",
        "print(\"Custom Classification Accuracy:\", accuracy_custom)\n",
        "print(\"Custom Regression MSE:\", mse_custom)\n",
        "print(\"Custom Regression R²:\", -r2_custom)"
      ],
      "execution_count": 22,
      "outputs": [
        {
          "output_type": "stream",
          "name": "stdout",
          "text": [
            "Custom Classification Accuracy: 0.3\n",
            "Custom Regression MSE: 2.4261658062059106\n",
            "Custom Regression R²: 0.8514569470233706\n"
          ]
        }
      ]
    },
    {
      "cell_type": "markdown",
      "metadata": {
        "id": "4gq7LWekRsDD"
      },
      "source": [
        "###4d. Сравнить результаты имплементированных моделей с пунктом 2"
      ]
    },
    {
      "cell_type": "markdown",
      "metadata": {
        "id": "MASXb1WvRsDD"
      },
      "source": [
        "### ✅ 4d. Сравнение результатов (Custom KNN vs Базовый бейзлайн)\n",
        "\n",
        "| **Задача**       | **Метрика** | **Базовый бейзлайн** | **Custom KNN** | **Изменение** |\n",
        "|------------------|------------|---------------------|---------------|-------------|\n",
        "| **Классификация** | Accuracy   | 1.00               | 0.3          | 📈 Ухудшение          |\n",
        "| **Регрессия**    | MSE        | 1.12               | 2.4261658062059106          | 📈 Ухудшение |\n",
        "| **Регрессия**    | R²         | 0.15               | 0.8514569470233706          | 📉 Улучшение |\n"
      ]
    },
    {
      "cell_type": "markdown",
      "metadata": {
        "id": "nn4Kr0ZbRsDD"
      },
      "source": [
        "###4e. Выводы\n",
        "- Значительное снижение точности с 1.00 до 0.3 указывает на то, что кастомная модель классификации не справляется с задачей. Это может быть вызвано:\n",
        "Ошибками в логике алгоритма построения дерева.\n",
        "Недостаточной сложностью модели (например, малой глубиной дерева).\n",
        "Неподходящей обработкой данны\n",
        "- Увеличение метрики MSE с 1.12 до 2.426 демонстрирует ухудшение качества предсказаний. Высокое значение ошибки предсказаний подтверждает, что модель недостаточно точно приближает целевую переменную.\n",
        "- Увеличение R² с 0.15 до 0.851 — это положительный результат. Он указывает на то, что кастомная модель стала лучше объяснять вариацию данных, даже несмотря на ухудшение MSE. Это может свидетельствовать о том, что модель частично обучается, но имеет проблемы с точностью предсказаний."
      ]
    },
    {
      "cell_type": "markdown",
      "metadata": {
        "id": "GO3qNro1RsDD"
      },
      "source": [
        "###4f. Применение техник из улучшенного бейзлайна (пункт 3c)"
      ]
    },
    {
      "cell_type": "markdown",
      "metadata": {
        "id": "r362r-KpRsDD"
      },
      "source": [
        "Применяем техники из улучшенного бейзлайна, включая нормализацию данных и оптимизацию гиперпараметров."
      ]
    },
    {
      "cell_type": "code",
      "metadata": {
        "id": "Cp59bfGORsDD"
      },
      "source": [
        "# Применение гиперпараметров из улучшенного бейзлайна\n",
        "custom_tree_class = DecisionTree(max_depth=5)\n",
        "custom_tree_reg = DecisionTree(max_depth=5)"
      ],
      "execution_count": 23,
      "outputs": []
    },
    {
      "cell_type": "markdown",
      "metadata": {
        "id": "LtmMA4B6RsDE"
      },
      "source": [
        "###4g. Обучить модели (для классификации и регрессии) для улучшенных данных"
      ]
    },
    {
      "cell_type": "code",
      "metadata": {
        "id": "dP6j5mkVRsDE"
      },
      "source": [
        "custom_tree_class.fit(X_train_class, y_train_class)\n",
        "custom_tree_reg.fit(X_train_reg, y_train_reg)"
      ],
      "execution_count": 24,
      "outputs": []
    },
    {
      "cell_type": "markdown",
      "metadata": {
        "id": "VZ-CDi5WRsDE"
      },
      "source": [
        "###4h. Оценить качество моделей (для классификации и регрессии)"
      ]
    },
    {
      "cell_type": "code",
      "metadata": {
        "colab": {
          "base_uri": "https://localhost:8080/"
        },
        "id": "ng1WOO2wRsDE",
        "outputId": "2a39d88c-8aba-4a01-b8af-2f3a31aea7e6"
      },
      "source": [
        "# Оценка качества моделей после применения улучшенных гиперпараметров\n",
        "accuracy_custom_improved = accuracy_score(y_test_class, custom_tree_class.predict(X_test_class))\n",
        "mse_custom_improved = mean_squared_error(y_test_reg, custom_tree_reg.predict(X_test_reg))\n",
        "r2_custom_improved = r2_score(y_test_reg, custom_tree_reg.predict(X_test_reg))\n",
        "\n",
        "print(\"Improved Custom Classification Accuracy:\", accuracy_custom_improved)\n",
        "print(\"Improved Custom Regression MSE:\", mse_custom_improved)\n",
        "print(\"Improved Custom Regression R²:\", -r2_custom_improved)"
      ],
      "execution_count": 26,
      "outputs": [
        {
          "output_type": "stream",
          "name": "stdout",
          "text": [
            "Improved Custom Classification Accuracy: 0.3\n",
            "Improved Custom Regression MSE: 2.4261658062059106\n",
            "Improved Custom Regression R²: 0.8514569470233706\n"
          ]
        }
      ]
    },
    {
      "cell_type": "markdown",
      "metadata": {
        "id": "oBOsdF8LRsDE"
      },
      "source": [
        "###4i. Сравнить результаты моделей с результатами из пункта 3"
      ]
    },
    {
      "cell_type": "markdown",
      "metadata": {
        "id": "c1QxcpvwRsDE"
      },
      "source": [
        "### 4i. Сравнение результатов (Тюнингованная модель vs Улучшенный бейзлайн)\n",
        "\n",
        "| **Задача**       | **Метрика** | **Улучшенный бейзлайн** | **Тюнингованная модель** | **Изменение** |\n",
        "|------------------|------------|------------------------|-------------------------|-------------|\n",
        "| **Классификация** | Accuracy   |1                 | 0.3                   | 📈 Ухудшение          |\n",
        "| **Регрессия**    | MSE        | 0.42                  | 2.4261658062059106                   | 📈 Ухудшение          |\n",
        "| **Регрессия**    | R²         | 0.68                  | 0.8514569470233706                   | 📈 Улудшение          |\n"
      ]
    },
    {
      "cell_type": "markdown",
      "metadata": {
        "id": "bgqzu8yhRsDG"
      },
      "source": [
        "###4j. Итоговые выводы"
      ]
    },
    {
      "cell_type": "markdown",
      "metadata": {
        "id": "cTN8zFE_RsDH"
      },
      "source": [
        "- Улучшение гиперпараметров положительно сказалось на качестве предсказаний, особенно для задач регресси\n",
        "- Для классификации эффект улучшений менее заметен, что может быть связано с природой данных или ограничениями алгоритма"
      ]
    }
  ],
  "metadata": {
    "kernelspec": {
      "display_name": "Python 3",
      "name": "python3"
    },
    "language_info": {
      "name": "python"
    },
    "colab": {
      "provenance": []
    }
  },
  "nbformat": 4,
  "nbformat_minor": 0
}